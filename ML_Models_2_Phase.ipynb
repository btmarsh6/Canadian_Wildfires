{
 "cells": [
  {
   "attachments": {},
   "cell_type": "markdown",
   "metadata": {},
   "source": [
    "# Fire Size Predictors\n",
    "Instead of straight out predicting fire size, this approach will be to first use a classifier to predict weather the fire will be small, medium or large. Then based on that prediction, use the corresponding regression model to predict the exact size."
   ]
  },
  {
   "cell_type": "code",
   "execution_count": 1,
   "metadata": {},
   "outputs": [],
   "source": [
    "import pandas as pd\n",
    "import numpy as np\n",
    "from helper_functions import evaluate_model\n",
    "import pickle\n",
    "from sklearn.model_selection import train_test_split\n",
    "from sklearn.preprocessing import StandardScaler, OneHotEncoder, LabelEncoder, FunctionTransformer, PowerTransformer, MinMaxScaler\n",
    "from sklearn.pipeline import Pipeline, make_pipeline\n",
    "from sklearn.compose import ColumnTransformer, make_column_selector\n",
    "from sklearn.metrics import mean_squared_error, r2_score, f1_score, confusion_matrix\n",
    "from sklearn.model_selection import GridSearchCV\n",
    "from sklearn.ensemble import AdaBoostRegressor, RandomForestClassifier, RandomForestRegressor\n",
    "from sklearn.linear_model import SGDClassifier, HuberRegressor, ElasticNetCV\n",
    "from sklearn.naive_bayes import MultinomialNB\n",
    "from imblearn.combine import SMOTEENN\n",
    "from imblearn.pipeline import Pipeline as imbPipeline\n",
    "import xgboost as xgb"
   ]
  },
  {
   "cell_type": "code",
   "execution_count": 2,
   "metadata": {},
   "outputs": [
    {
     "name": "stdout",
     "output_type": "stream",
     "text": [
      "(419872, 23)\n"
     ]
    },
    {
     "data": {
      "text/html": [
       "<div>\n",
       "<style scoped>\n",
       "    .dataframe tbody tr th:only-of-type {\n",
       "        vertical-align: middle;\n",
       "    }\n",
       "\n",
       "    .dataframe tbody tr th {\n",
       "        vertical-align: top;\n",
       "    }\n",
       "\n",
       "    .dataframe thead th {\n",
       "        text-align: right;\n",
       "    }\n",
       "</style>\n",
       "<table border=\"1\" class=\"dataframe\">\n",
       "  <thead>\n",
       "    <tr style=\"text-align: right;\">\n",
       "      <th></th>\n",
       "      <th>FID</th>\n",
       "      <th>Src_Agency</th>\n",
       "      <th>Latitude</th>\n",
       "      <th>Longitude</th>\n",
       "      <th>Rep_Date</th>\n",
       "      <th>Size_Ha</th>\n",
       "      <th>Cause</th>\n",
       "      <th>Protzone</th>\n",
       "      <th>Ecoz_Name</th>\n",
       "      <th>Year</th>\n",
       "      <th>...</th>\n",
       "      <th>Province</th>\n",
       "      <th>Size_Bin</th>\n",
       "      <th>Decade</th>\n",
       "      <th>Elevation</th>\n",
       "      <th>2_Week_Rainfall</th>\n",
       "      <th>Avg_High</th>\n",
       "      <th>Start_Date_High</th>\n",
       "      <th>Avg_Temp</th>\n",
       "      <th>Start_Date_Wind_Speed</th>\n",
       "      <th>Wind_Direction</th>\n",
       "    </tr>\n",
       "  </thead>\n",
       "  <tbody>\n",
       "    <tr>\n",
       "      <th>0</th>\n",
       "      <td>0</td>\n",
       "      <td>BC</td>\n",
       "      <td>59.963</td>\n",
       "      <td>-128.172</td>\n",
       "      <td>1953-05-26</td>\n",
       "      <td>8.0</td>\n",
       "      <td>H</td>\n",
       "      <td></td>\n",
       "      <td>Boreal Cordillera</td>\n",
       "      <td>1953</td>\n",
       "      <td>...</td>\n",
       "      <td>BC</td>\n",
       "      <td>small</td>\n",
       "      <td>50s</td>\n",
       "      <td>835.0</td>\n",
       "      <td>21.9</td>\n",
       "      <td>12.400000</td>\n",
       "      <td>15.1</td>\n",
       "      <td>7.126667</td>\n",
       "      <td>11.9</td>\n",
       "      <td>200</td>\n",
       "    </tr>\n",
       "    <tr>\n",
       "      <th>1</th>\n",
       "      <td>1</td>\n",
       "      <td>BC</td>\n",
       "      <td>59.318</td>\n",
       "      <td>-132.172</td>\n",
       "      <td>1950-06-22</td>\n",
       "      <td>8.0</td>\n",
       "      <td>L</td>\n",
       "      <td></td>\n",
       "      <td>Boreal Cordillera</td>\n",
       "      <td>1950</td>\n",
       "      <td>...</td>\n",
       "      <td>BC</td>\n",
       "      <td>small</td>\n",
       "      <td>40s</td>\n",
       "      <td>835.0</td>\n",
       "      <td>13.0</td>\n",
       "      <td>19.766667</td>\n",
       "      <td>17.0</td>\n",
       "      <td>13.660000</td>\n",
       "      <td>10.5</td>\n",
       "      <td>342</td>\n",
       "    </tr>\n",
       "    <tr>\n",
       "      <th>2</th>\n",
       "      <td>2</td>\n",
       "      <td>BC</td>\n",
       "      <td>59.876</td>\n",
       "      <td>-131.922</td>\n",
       "      <td>1950-06-04</td>\n",
       "      <td>12949.9</td>\n",
       "      <td>H</td>\n",
       "      <td></td>\n",
       "      <td>Boreal Cordillera</td>\n",
       "      <td>1950</td>\n",
       "      <td>...</td>\n",
       "      <td>BC</td>\n",
       "      <td>large</td>\n",
       "      <td>40s</td>\n",
       "      <td>853.0</td>\n",
       "      <td>11.2</td>\n",
       "      <td>9.146667</td>\n",
       "      <td>14.3</td>\n",
       "      <td>4.433333</td>\n",
       "      <td>12.9</td>\n",
       "      <td>310</td>\n",
       "    </tr>\n",
       "    <tr>\n",
       "      <th>3</th>\n",
       "      <td>3</td>\n",
       "      <td>BC</td>\n",
       "      <td>59.760</td>\n",
       "      <td>-132.808</td>\n",
       "      <td>1951-07-15</td>\n",
       "      <td>241.1</td>\n",
       "      <td>H</td>\n",
       "      <td></td>\n",
       "      <td>Boreal Cordillera</td>\n",
       "      <td>1951</td>\n",
       "      <td>...</td>\n",
       "      <td>BC</td>\n",
       "      <td>medium</td>\n",
       "      <td>50s</td>\n",
       "      <td>952.0</td>\n",
       "      <td>32.0</td>\n",
       "      <td>21.940000</td>\n",
       "      <td>21.9</td>\n",
       "      <td>17.086667</td>\n",
       "      <td>5.2</td>\n",
       "      <td>343</td>\n",
       "    </tr>\n",
       "    <tr>\n",
       "      <th>4</th>\n",
       "      <td>4</td>\n",
       "      <td>BC</td>\n",
       "      <td>59.434</td>\n",
       "      <td>-126.172</td>\n",
       "      <td>1952-06-12</td>\n",
       "      <td>1.2</td>\n",
       "      <td>H</td>\n",
       "      <td></td>\n",
       "      <td>Boreal Cordillera</td>\n",
       "      <td>1952</td>\n",
       "      <td>...</td>\n",
       "      <td>BC</td>\n",
       "      <td>small</td>\n",
       "      <td>50s</td>\n",
       "      <td>438.0</td>\n",
       "      <td>24.8</td>\n",
       "      <td>14.193333</td>\n",
       "      <td>21.2</td>\n",
       "      <td>9.986667</td>\n",
       "      <td>10.1</td>\n",
       "      <td>105</td>\n",
       "    </tr>\n",
       "  </tbody>\n",
       "</table>\n",
       "<p>5 rows × 23 columns</p>\n",
       "</div>"
      ],
      "text/plain": [
       "   FID Src_Agency  Latitude  Longitude    Rep_Date  Size_Ha Cause Protzone  \\\n",
       "0    0         BC    59.963   -128.172  1953-05-26      8.0     H            \n",
       "1    1         BC    59.318   -132.172  1950-06-22      8.0     L            \n",
       "2    2         BC    59.876   -131.922  1950-06-04  12949.9     H            \n",
       "3    3         BC    59.760   -132.808  1951-07-15    241.1     H            \n",
       "4    4         BC    59.434   -126.172  1952-06-12      1.2     H            \n",
       "\n",
       "           Ecoz_Name  Year  ...  Province  Size_Bin  Decade Elevation  \\\n",
       "0  Boreal Cordillera  1953  ...        BC     small     50s     835.0   \n",
       "1  Boreal Cordillera  1950  ...        BC     small     40s     835.0   \n",
       "2  Boreal Cordillera  1950  ...        BC     large     40s     853.0   \n",
       "3  Boreal Cordillera  1951  ...        BC    medium     50s     952.0   \n",
       "4  Boreal Cordillera  1952  ...        BC     small     50s     438.0   \n",
       "\n",
       "  2_Week_Rainfall   Avg_High  Start_Date_High   Avg_Temp  \\\n",
       "0            21.9  12.400000             15.1   7.126667   \n",
       "1            13.0  19.766667             17.0  13.660000   \n",
       "2            11.2   9.146667             14.3   4.433333   \n",
       "3            32.0  21.940000             21.9  17.086667   \n",
       "4            24.8  14.193333             21.2   9.986667   \n",
       "\n",
       "   Start_Date_Wind_Speed  Wind_Direction  \n",
       "0                   11.9             200  \n",
       "1                   10.5             342  \n",
       "2                   12.9             310  \n",
       "3                    5.2             343  \n",
       "4                   10.1             105  \n",
       "\n",
       "[5 rows x 23 columns]"
      ]
     },
     "execution_count": 2,
     "metadata": {},
     "output_type": "execute_result"
    }
   ],
   "source": [
    "# import fire and weather data and combine into single dataframe\n",
    "fire_df = pd.read_csv('data/wildfires_clean.csv')\n",
    "weather_df = pd.read_csv('data/clean_weather.csv')\n",
    "df = pd.merge(fire_df, weather_df, on='FID')\n",
    "print(df.shape)\n",
    "df.head()"
   ]
  },
  {
   "cell_type": "code",
   "execution_count": 3,
   "metadata": {},
   "outputs": [],
   "source": [
    "features = ['Latitude', 'Longitude', 'Year', 'Month', 'Date', 'Cause', 'Elevation', '2_Week_Rainfall', 'Avg_High', 'Start_Date_High', 'Avg_Temp', 'Start_Date_Wind_Speed', 'Wind_Direction', 'Size_Ha', 'Size_Bin']\n",
    "X = df[features]"
   ]
  },
  {
   "attachments": {},
   "cell_type": "markdown",
   "metadata": {},
   "source": [
    "## Stage 1: Classifier"
   ]
  },
  {
   "cell_type": "code",
   "execution_count": 4,
   "metadata": {},
   "outputs": [
    {
     "data": {
      "text/plain": [
       "small     0.902980\n",
       "medium    0.087034\n",
       "large     0.009986\n",
       "Name: Size_Bin, dtype: float64"
      ]
     },
     "execution_count": 4,
     "metadata": {},
     "output_type": "execute_result"
    }
   ],
   "source": [
    "# check distribution of size bins\n",
    "df['Size_Bin'].value_counts(normalize=True)"
   ]
  },
  {
   "cell_type": "code",
   "execution_count": 4,
   "metadata": {},
   "outputs": [],
   "source": [
    "# Create training and test data for classifier\n",
    "X_train, X_test, y_train, y_test = train_test_split(X.drop(columns=['Size_Ha', 'Size_Bin']), X['Size_Bin'], test_size=.3, random_state=58, stratify=X['Size_Bin'])"
   ]
  },
  {
   "cell_type": "code",
   "execution_count": 9,
   "metadata": {},
   "outputs": [],
   "source": [
    "sgd_pipe = imbPipeline([\n",
    "    # Scaling, Normalizng, Encoding\n",
    "    ('preprocessing', ColumnTransformer([\n",
    "        ('numeric', make_pipeline(\n",
    "            PowerTransformer(),\n",
    "            StandardScaler()),\n",
    "            make_column_selector(dtype_include=np.number)\n",
    "        ),\n",
    "         ('categorical', make_pipeline(\n",
    "             OneHotEncoder()),\n",
    "             make_column_selector(dtype_include='object')\n",
    "         )])\n",
    "    ),\n",
    "    # Sampling to address class imbalance\n",
    "    ('smote_enn', SMOTEENN()),\n",
    "\n",
    "    # classifier\n",
    "    ('model', SGDClassifier())\n",
    "])"
   ]
  },
  {
   "cell_type": "code",
   "execution_count": 10,
   "metadata": {},
   "outputs": [
    {
     "data": {
      "text/html": [
       "<style>#sk-container-id-1 {color: black;background-color: white;}#sk-container-id-1 pre{padding: 0;}#sk-container-id-1 div.sk-toggleable {background-color: white;}#sk-container-id-1 label.sk-toggleable__label {cursor: pointer;display: block;width: 100%;margin-bottom: 0;padding: 0.3em;box-sizing: border-box;text-align: center;}#sk-container-id-1 label.sk-toggleable__label-arrow:before {content: \"▸\";float: left;margin-right: 0.25em;color: #696969;}#sk-container-id-1 label.sk-toggleable__label-arrow:hover:before {color: black;}#sk-container-id-1 div.sk-estimator:hover label.sk-toggleable__label-arrow:before {color: black;}#sk-container-id-1 div.sk-toggleable__content {max-height: 0;max-width: 0;overflow: hidden;text-align: left;background-color: #f0f8ff;}#sk-container-id-1 div.sk-toggleable__content pre {margin: 0.2em;color: black;border-radius: 0.25em;background-color: #f0f8ff;}#sk-container-id-1 input.sk-toggleable__control:checked~div.sk-toggleable__content {max-height: 200px;max-width: 100%;overflow: auto;}#sk-container-id-1 input.sk-toggleable__control:checked~label.sk-toggleable__label-arrow:before {content: \"▾\";}#sk-container-id-1 div.sk-estimator input.sk-toggleable__control:checked~label.sk-toggleable__label {background-color: #d4ebff;}#sk-container-id-1 div.sk-label input.sk-toggleable__control:checked~label.sk-toggleable__label {background-color: #d4ebff;}#sk-container-id-1 input.sk-hidden--visually {border: 0;clip: rect(1px 1px 1px 1px);clip: rect(1px, 1px, 1px, 1px);height: 1px;margin: -1px;overflow: hidden;padding: 0;position: absolute;width: 1px;}#sk-container-id-1 div.sk-estimator {font-family: monospace;background-color: #f0f8ff;border: 1px dotted black;border-radius: 0.25em;box-sizing: border-box;margin-bottom: 0.5em;}#sk-container-id-1 div.sk-estimator:hover {background-color: #d4ebff;}#sk-container-id-1 div.sk-parallel-item::after {content: \"\";width: 100%;border-bottom: 1px solid gray;flex-grow: 1;}#sk-container-id-1 div.sk-label:hover label.sk-toggleable__label {background-color: #d4ebff;}#sk-container-id-1 div.sk-serial::before {content: \"\";position: absolute;border-left: 1px solid gray;box-sizing: border-box;top: 0;bottom: 0;left: 50%;z-index: 0;}#sk-container-id-1 div.sk-serial {display: flex;flex-direction: column;align-items: center;background-color: white;padding-right: 0.2em;padding-left: 0.2em;position: relative;}#sk-container-id-1 div.sk-item {position: relative;z-index: 1;}#sk-container-id-1 div.sk-parallel {display: flex;align-items: stretch;justify-content: center;background-color: white;position: relative;}#sk-container-id-1 div.sk-item::before, #sk-container-id-1 div.sk-parallel-item::before {content: \"\";position: absolute;border-left: 1px solid gray;box-sizing: border-box;top: 0;bottom: 0;left: 50%;z-index: -1;}#sk-container-id-1 div.sk-parallel-item {display: flex;flex-direction: column;z-index: 1;position: relative;background-color: white;}#sk-container-id-1 div.sk-parallel-item:first-child::after {align-self: flex-end;width: 50%;}#sk-container-id-1 div.sk-parallel-item:last-child::after {align-self: flex-start;width: 50%;}#sk-container-id-1 div.sk-parallel-item:only-child::after {width: 0;}#sk-container-id-1 div.sk-dashed-wrapped {border: 1px dashed gray;margin: 0 0.4em 0.5em 0.4em;box-sizing: border-box;padding-bottom: 0.4em;background-color: white;}#sk-container-id-1 div.sk-label label {font-family: monospace;font-weight: bold;display: inline-block;line-height: 1.2em;}#sk-container-id-1 div.sk-label-container {text-align: center;}#sk-container-id-1 div.sk-container {/* jupyter's `normalize.less` sets `[hidden] { display: none; }` but bootstrap.min.css set `[hidden] { display: none !important; }` so we also need the `!important` here to be able to override the default hidden behavior on the sphinx rendered scikit-learn.org. See: https://github.com/scikit-learn/scikit-learn/issues/21755 */display: inline-block !important;position: relative;}#sk-container-id-1 div.sk-text-repr-fallback {display: none;}</style><div id=\"sk-container-id-1\" class=\"sk-top-container\"><div class=\"sk-text-repr-fallback\"><pre>Pipeline(steps=[(&#x27;preprocessing&#x27;,\n",
       "                 ColumnTransformer(transformers=[(&#x27;numeric&#x27;,\n",
       "                                                  Pipeline(steps=[(&#x27;powertransformer&#x27;,\n",
       "                                                                   PowerTransformer()),\n",
       "                                                                  (&#x27;standardscaler&#x27;,\n",
       "                                                                   StandardScaler())]),\n",
       "                                                  &lt;sklearn.compose._column_transformer.make_column_selector object at 0x000001FD8FA8D730&gt;),\n",
       "                                                 (&#x27;categorical&#x27;,\n",
       "                                                  Pipeline(steps=[(&#x27;onehotencoder&#x27;,\n",
       "                                                                   OneHotEncoder())]),\n",
       "                                                  &lt;sklearn.compose._column_transformer.make_column_selector object at 0x000001FD8FA8D0A0&gt;)])),\n",
       "                (&#x27;smote_enn&#x27;, SMOTEENN()), (&#x27;model&#x27;, SGDClassifier())])</pre><b>In a Jupyter environment, please rerun this cell to show the HTML representation or trust the notebook. <br />On GitHub, the HTML representation is unable to render, please try loading this page with nbviewer.org.</b></div><div class=\"sk-container\" hidden><div class=\"sk-item sk-dashed-wrapped\"><div class=\"sk-label-container\"><div class=\"sk-label sk-toggleable\"><input class=\"sk-toggleable__control sk-hidden--visually\" id=\"sk-estimator-id-1\" type=\"checkbox\" ><label for=\"sk-estimator-id-1\" class=\"sk-toggleable__label sk-toggleable__label-arrow\">Pipeline</label><div class=\"sk-toggleable__content\"><pre>Pipeline(steps=[(&#x27;preprocessing&#x27;,\n",
       "                 ColumnTransformer(transformers=[(&#x27;numeric&#x27;,\n",
       "                                                  Pipeline(steps=[(&#x27;powertransformer&#x27;,\n",
       "                                                                   PowerTransformer()),\n",
       "                                                                  (&#x27;standardscaler&#x27;,\n",
       "                                                                   StandardScaler())]),\n",
       "                                                  &lt;sklearn.compose._column_transformer.make_column_selector object at 0x000001FD8FA8D730&gt;),\n",
       "                                                 (&#x27;categorical&#x27;,\n",
       "                                                  Pipeline(steps=[(&#x27;onehotencoder&#x27;,\n",
       "                                                                   OneHotEncoder())]),\n",
       "                                                  &lt;sklearn.compose._column_transformer.make_column_selector object at 0x000001FD8FA8D0A0&gt;)])),\n",
       "                (&#x27;smote_enn&#x27;, SMOTEENN()), (&#x27;model&#x27;, SGDClassifier())])</pre></div></div></div><div class=\"sk-serial\"><div class=\"sk-item sk-dashed-wrapped\"><div class=\"sk-label-container\"><div class=\"sk-label sk-toggleable\"><input class=\"sk-toggleable__control sk-hidden--visually\" id=\"sk-estimator-id-2\" type=\"checkbox\" ><label for=\"sk-estimator-id-2\" class=\"sk-toggleable__label sk-toggleable__label-arrow\">preprocessing: ColumnTransformer</label><div class=\"sk-toggleable__content\"><pre>ColumnTransformer(transformers=[(&#x27;numeric&#x27;,\n",
       "                                 Pipeline(steps=[(&#x27;powertransformer&#x27;,\n",
       "                                                  PowerTransformer()),\n",
       "                                                 (&#x27;standardscaler&#x27;,\n",
       "                                                  StandardScaler())]),\n",
       "                                 &lt;sklearn.compose._column_transformer.make_column_selector object at 0x000001FD8FA8D730&gt;),\n",
       "                                (&#x27;categorical&#x27;,\n",
       "                                 Pipeline(steps=[(&#x27;onehotencoder&#x27;,\n",
       "                                                  OneHotEncoder())]),\n",
       "                                 &lt;sklearn.compose._column_transformer.make_column_selector object at 0x000001FD8FA8D0A0&gt;)])</pre></div></div></div><div class=\"sk-parallel\"><div class=\"sk-parallel-item\"><div class=\"sk-item\"><div class=\"sk-label-container\"><div class=\"sk-label sk-toggleable\"><input class=\"sk-toggleable__control sk-hidden--visually\" id=\"sk-estimator-id-3\" type=\"checkbox\" ><label for=\"sk-estimator-id-3\" class=\"sk-toggleable__label sk-toggleable__label-arrow\">numeric</label><div class=\"sk-toggleable__content\"><pre>&lt;sklearn.compose._column_transformer.make_column_selector object at 0x000001FD8FA8D730&gt;</pre></div></div></div><div class=\"sk-serial\"><div class=\"sk-item\"><div class=\"sk-serial\"><div class=\"sk-item\"><div class=\"sk-estimator sk-toggleable\"><input class=\"sk-toggleable__control sk-hidden--visually\" id=\"sk-estimator-id-4\" type=\"checkbox\" ><label for=\"sk-estimator-id-4\" class=\"sk-toggleable__label sk-toggleable__label-arrow\">PowerTransformer</label><div class=\"sk-toggleable__content\"><pre>PowerTransformer()</pre></div></div></div><div class=\"sk-item\"><div class=\"sk-estimator sk-toggleable\"><input class=\"sk-toggleable__control sk-hidden--visually\" id=\"sk-estimator-id-5\" type=\"checkbox\" ><label for=\"sk-estimator-id-5\" class=\"sk-toggleable__label sk-toggleable__label-arrow\">StandardScaler</label><div class=\"sk-toggleable__content\"><pre>StandardScaler()</pre></div></div></div></div></div></div></div></div><div class=\"sk-parallel-item\"><div class=\"sk-item\"><div class=\"sk-label-container\"><div class=\"sk-label sk-toggleable\"><input class=\"sk-toggleable__control sk-hidden--visually\" id=\"sk-estimator-id-6\" type=\"checkbox\" ><label for=\"sk-estimator-id-6\" class=\"sk-toggleable__label sk-toggleable__label-arrow\">categorical</label><div class=\"sk-toggleable__content\"><pre>&lt;sklearn.compose._column_transformer.make_column_selector object at 0x000001FD8FA8D0A0&gt;</pre></div></div></div><div class=\"sk-serial\"><div class=\"sk-item\"><div class=\"sk-serial\"><div class=\"sk-item\"><div class=\"sk-estimator sk-toggleable\"><input class=\"sk-toggleable__control sk-hidden--visually\" id=\"sk-estimator-id-7\" type=\"checkbox\" ><label for=\"sk-estimator-id-7\" class=\"sk-toggleable__label sk-toggleable__label-arrow\">OneHotEncoder</label><div class=\"sk-toggleable__content\"><pre>OneHotEncoder()</pre></div></div></div></div></div></div></div></div></div></div><div class=\"sk-item\"><div class=\"sk-estimator sk-toggleable\"><input class=\"sk-toggleable__control sk-hidden--visually\" id=\"sk-estimator-id-8\" type=\"checkbox\" ><label for=\"sk-estimator-id-8\" class=\"sk-toggleable__label sk-toggleable__label-arrow\">SMOTEENN</label><div class=\"sk-toggleable__content\"><pre>SMOTEENN()</pre></div></div></div><div class=\"sk-item\"><div class=\"sk-estimator sk-toggleable\"><input class=\"sk-toggleable__control sk-hidden--visually\" id=\"sk-estimator-id-9\" type=\"checkbox\" ><label for=\"sk-estimator-id-9\" class=\"sk-toggleable__label sk-toggleable__label-arrow\">SGDClassifier</label><div class=\"sk-toggleable__content\"><pre>SGDClassifier()</pre></div></div></div></div></div></div></div>"
      ],
      "text/plain": [
       "Pipeline(steps=[('preprocessing',\n",
       "                 ColumnTransformer(transformers=[('numeric',\n",
       "                                                  Pipeline(steps=[('powertransformer',\n",
       "                                                                   PowerTransformer()),\n",
       "                                                                  ('standardscaler',\n",
       "                                                                   StandardScaler())]),\n",
       "                                                  <sklearn.compose._column_transformer.make_column_selector object at 0x000001FD8FA8D730>),\n",
       "                                                 ('categorical',\n",
       "                                                  Pipeline(steps=[('onehotencoder',\n",
       "                                                                   OneHotEncoder())]),\n",
       "                                                  <sklearn.compose._column_transformer.make_column_selector object at 0x000001FD8FA8D0A0>)])),\n",
       "                ('smote_enn', SMOTEENN()), ('model', SGDClassifier())])"
      ]
     },
     "execution_count": 10,
     "metadata": {},
     "output_type": "execute_result"
    }
   ],
   "source": [
    "sgd_pipe.fit(X_train, y_train)"
   ]
  },
  {
   "cell_type": "code",
   "execution_count": 14,
   "metadata": {},
   "outputs": [
    {
     "name": "stdout",
     "output_type": "stream",
     "text": [
      "F1 Score: [0.06717705 0.09628487 0.84073795]\n"
     ]
    },
    {
     "data": {
      "text/plain": [
       "array([[ 1110,    36,   112],\n",
       "       [ 6217,   749,  3997],\n",
       "       [24462,  3810, 85469]], dtype=int64)"
      ]
     },
     "execution_count": 14,
     "metadata": {},
     "output_type": "execute_result"
    }
   ],
   "source": [
    "clf_pred = sgd_pipe.predict(X_test)\n",
    "f1 = f1_score(y_test, clf_pred, average=None)\n",
    "print('F1 Score:', f1)\n",
    "confusion_matrix(y_test, clf_pred)"
   ]
  },
  {
   "cell_type": "code",
   "execution_count": 15,
   "metadata": {},
   "outputs": [],
   "source": [
    "# attempt with a naive bayes classifier\n",
    "nbc_pipe = imbPipeline([\n",
    "    # Scaling, Normalizng, Encoding\n",
    "    ('preprocessing', ColumnTransformer([\n",
    "        ('numeric', make_pipeline(\n",
    "            PowerTransformer(),\n",
    "            MinMaxScaler()),\n",
    "            make_column_selector(dtype_include=np.number)\n",
    "        ),\n",
    "         ('categorical', make_pipeline(\n",
    "             OneHotEncoder()),\n",
    "             make_column_selector(dtype_include='object')\n",
    "         )])\n",
    "    ),\n",
    "    # Sampling to address class imbalance\n",
    "    ('smote_enn', SMOTEENN()),\n",
    "\n",
    "    # classifier\n",
    "    ('model', MultinomialNB())\n",
    "])"
   ]
  },
  {
   "cell_type": "code",
   "execution_count": 16,
   "metadata": {},
   "outputs": [
    {
     "data": {
      "text/html": [
       "<style>#sk-container-id-2 {color: black;background-color: white;}#sk-container-id-2 pre{padding: 0;}#sk-container-id-2 div.sk-toggleable {background-color: white;}#sk-container-id-2 label.sk-toggleable__label {cursor: pointer;display: block;width: 100%;margin-bottom: 0;padding: 0.3em;box-sizing: border-box;text-align: center;}#sk-container-id-2 label.sk-toggleable__label-arrow:before {content: \"▸\";float: left;margin-right: 0.25em;color: #696969;}#sk-container-id-2 label.sk-toggleable__label-arrow:hover:before {color: black;}#sk-container-id-2 div.sk-estimator:hover label.sk-toggleable__label-arrow:before {color: black;}#sk-container-id-2 div.sk-toggleable__content {max-height: 0;max-width: 0;overflow: hidden;text-align: left;background-color: #f0f8ff;}#sk-container-id-2 div.sk-toggleable__content pre {margin: 0.2em;color: black;border-radius: 0.25em;background-color: #f0f8ff;}#sk-container-id-2 input.sk-toggleable__control:checked~div.sk-toggleable__content {max-height: 200px;max-width: 100%;overflow: auto;}#sk-container-id-2 input.sk-toggleable__control:checked~label.sk-toggleable__label-arrow:before {content: \"▾\";}#sk-container-id-2 div.sk-estimator input.sk-toggleable__control:checked~label.sk-toggleable__label {background-color: #d4ebff;}#sk-container-id-2 div.sk-label input.sk-toggleable__control:checked~label.sk-toggleable__label {background-color: #d4ebff;}#sk-container-id-2 input.sk-hidden--visually {border: 0;clip: rect(1px 1px 1px 1px);clip: rect(1px, 1px, 1px, 1px);height: 1px;margin: -1px;overflow: hidden;padding: 0;position: absolute;width: 1px;}#sk-container-id-2 div.sk-estimator {font-family: monospace;background-color: #f0f8ff;border: 1px dotted black;border-radius: 0.25em;box-sizing: border-box;margin-bottom: 0.5em;}#sk-container-id-2 div.sk-estimator:hover {background-color: #d4ebff;}#sk-container-id-2 div.sk-parallel-item::after {content: \"\";width: 100%;border-bottom: 1px solid gray;flex-grow: 1;}#sk-container-id-2 div.sk-label:hover label.sk-toggleable__label {background-color: #d4ebff;}#sk-container-id-2 div.sk-serial::before {content: \"\";position: absolute;border-left: 1px solid gray;box-sizing: border-box;top: 0;bottom: 0;left: 50%;z-index: 0;}#sk-container-id-2 div.sk-serial {display: flex;flex-direction: column;align-items: center;background-color: white;padding-right: 0.2em;padding-left: 0.2em;position: relative;}#sk-container-id-2 div.sk-item {position: relative;z-index: 1;}#sk-container-id-2 div.sk-parallel {display: flex;align-items: stretch;justify-content: center;background-color: white;position: relative;}#sk-container-id-2 div.sk-item::before, #sk-container-id-2 div.sk-parallel-item::before {content: \"\";position: absolute;border-left: 1px solid gray;box-sizing: border-box;top: 0;bottom: 0;left: 50%;z-index: -1;}#sk-container-id-2 div.sk-parallel-item {display: flex;flex-direction: column;z-index: 1;position: relative;background-color: white;}#sk-container-id-2 div.sk-parallel-item:first-child::after {align-self: flex-end;width: 50%;}#sk-container-id-2 div.sk-parallel-item:last-child::after {align-self: flex-start;width: 50%;}#sk-container-id-2 div.sk-parallel-item:only-child::after {width: 0;}#sk-container-id-2 div.sk-dashed-wrapped {border: 1px dashed gray;margin: 0 0.4em 0.5em 0.4em;box-sizing: border-box;padding-bottom: 0.4em;background-color: white;}#sk-container-id-2 div.sk-label label {font-family: monospace;font-weight: bold;display: inline-block;line-height: 1.2em;}#sk-container-id-2 div.sk-label-container {text-align: center;}#sk-container-id-2 div.sk-container {/* jupyter's `normalize.less` sets `[hidden] { display: none; }` but bootstrap.min.css set `[hidden] { display: none !important; }` so we also need the `!important` here to be able to override the default hidden behavior on the sphinx rendered scikit-learn.org. See: https://github.com/scikit-learn/scikit-learn/issues/21755 */display: inline-block !important;position: relative;}#sk-container-id-2 div.sk-text-repr-fallback {display: none;}</style><div id=\"sk-container-id-2\" class=\"sk-top-container\"><div class=\"sk-text-repr-fallback\"><pre>Pipeline(steps=[(&#x27;preprocessing&#x27;,\n",
       "                 ColumnTransformer(transformers=[(&#x27;numeric&#x27;,\n",
       "                                                  Pipeline(steps=[(&#x27;powertransformer&#x27;,\n",
       "                                                                   PowerTransformer()),\n",
       "                                                                  (&#x27;minmaxscaler&#x27;,\n",
       "                                                                   MinMaxScaler())]),\n",
       "                                                  &lt;sklearn.compose._column_transformer.make_column_selector object at 0x000001FD8DD2EF40&gt;),\n",
       "                                                 (&#x27;categorical&#x27;,\n",
       "                                                  Pipeline(steps=[(&#x27;onehotencoder&#x27;,\n",
       "                                                                   OneHotEncoder())]),\n",
       "                                                  &lt;sklearn.compose._column_transformer.make_column_selector object at 0x000001FD8FAA1310&gt;)])),\n",
       "                (&#x27;smote_enn&#x27;, SMOTEENN()), (&#x27;model&#x27;, MultinomialNB())])</pre><b>In a Jupyter environment, please rerun this cell to show the HTML representation or trust the notebook. <br />On GitHub, the HTML representation is unable to render, please try loading this page with nbviewer.org.</b></div><div class=\"sk-container\" hidden><div class=\"sk-item sk-dashed-wrapped\"><div class=\"sk-label-container\"><div class=\"sk-label sk-toggleable\"><input class=\"sk-toggleable__control sk-hidden--visually\" id=\"sk-estimator-id-10\" type=\"checkbox\" ><label for=\"sk-estimator-id-10\" class=\"sk-toggleable__label sk-toggleable__label-arrow\">Pipeline</label><div class=\"sk-toggleable__content\"><pre>Pipeline(steps=[(&#x27;preprocessing&#x27;,\n",
       "                 ColumnTransformer(transformers=[(&#x27;numeric&#x27;,\n",
       "                                                  Pipeline(steps=[(&#x27;powertransformer&#x27;,\n",
       "                                                                   PowerTransformer()),\n",
       "                                                                  (&#x27;minmaxscaler&#x27;,\n",
       "                                                                   MinMaxScaler())]),\n",
       "                                                  &lt;sklearn.compose._column_transformer.make_column_selector object at 0x000001FD8DD2EF40&gt;),\n",
       "                                                 (&#x27;categorical&#x27;,\n",
       "                                                  Pipeline(steps=[(&#x27;onehotencoder&#x27;,\n",
       "                                                                   OneHotEncoder())]),\n",
       "                                                  &lt;sklearn.compose._column_transformer.make_column_selector object at 0x000001FD8FAA1310&gt;)])),\n",
       "                (&#x27;smote_enn&#x27;, SMOTEENN()), (&#x27;model&#x27;, MultinomialNB())])</pre></div></div></div><div class=\"sk-serial\"><div class=\"sk-item sk-dashed-wrapped\"><div class=\"sk-label-container\"><div class=\"sk-label sk-toggleable\"><input class=\"sk-toggleable__control sk-hidden--visually\" id=\"sk-estimator-id-11\" type=\"checkbox\" ><label for=\"sk-estimator-id-11\" class=\"sk-toggleable__label sk-toggleable__label-arrow\">preprocessing: ColumnTransformer</label><div class=\"sk-toggleable__content\"><pre>ColumnTransformer(transformers=[(&#x27;numeric&#x27;,\n",
       "                                 Pipeline(steps=[(&#x27;powertransformer&#x27;,\n",
       "                                                  PowerTransformer()),\n",
       "                                                 (&#x27;minmaxscaler&#x27;,\n",
       "                                                  MinMaxScaler())]),\n",
       "                                 &lt;sklearn.compose._column_transformer.make_column_selector object at 0x000001FD8DD2EF40&gt;),\n",
       "                                (&#x27;categorical&#x27;,\n",
       "                                 Pipeline(steps=[(&#x27;onehotencoder&#x27;,\n",
       "                                                  OneHotEncoder())]),\n",
       "                                 &lt;sklearn.compose._column_transformer.make_column_selector object at 0x000001FD8FAA1310&gt;)])</pre></div></div></div><div class=\"sk-parallel\"><div class=\"sk-parallel-item\"><div class=\"sk-item\"><div class=\"sk-label-container\"><div class=\"sk-label sk-toggleable\"><input class=\"sk-toggleable__control sk-hidden--visually\" id=\"sk-estimator-id-12\" type=\"checkbox\" ><label for=\"sk-estimator-id-12\" class=\"sk-toggleable__label sk-toggleable__label-arrow\">numeric</label><div class=\"sk-toggleable__content\"><pre>&lt;sklearn.compose._column_transformer.make_column_selector object at 0x000001FD8DD2EF40&gt;</pre></div></div></div><div class=\"sk-serial\"><div class=\"sk-item\"><div class=\"sk-serial\"><div class=\"sk-item\"><div class=\"sk-estimator sk-toggleable\"><input class=\"sk-toggleable__control sk-hidden--visually\" id=\"sk-estimator-id-13\" type=\"checkbox\" ><label for=\"sk-estimator-id-13\" class=\"sk-toggleable__label sk-toggleable__label-arrow\">PowerTransformer</label><div class=\"sk-toggleable__content\"><pre>PowerTransformer()</pre></div></div></div><div class=\"sk-item\"><div class=\"sk-estimator sk-toggleable\"><input class=\"sk-toggleable__control sk-hidden--visually\" id=\"sk-estimator-id-14\" type=\"checkbox\" ><label for=\"sk-estimator-id-14\" class=\"sk-toggleable__label sk-toggleable__label-arrow\">MinMaxScaler</label><div class=\"sk-toggleable__content\"><pre>MinMaxScaler()</pre></div></div></div></div></div></div></div></div><div class=\"sk-parallel-item\"><div class=\"sk-item\"><div class=\"sk-label-container\"><div class=\"sk-label sk-toggleable\"><input class=\"sk-toggleable__control sk-hidden--visually\" id=\"sk-estimator-id-15\" type=\"checkbox\" ><label for=\"sk-estimator-id-15\" class=\"sk-toggleable__label sk-toggleable__label-arrow\">categorical</label><div class=\"sk-toggleable__content\"><pre>&lt;sklearn.compose._column_transformer.make_column_selector object at 0x000001FD8FAA1310&gt;</pre></div></div></div><div class=\"sk-serial\"><div class=\"sk-item\"><div class=\"sk-serial\"><div class=\"sk-item\"><div class=\"sk-estimator sk-toggleable\"><input class=\"sk-toggleable__control sk-hidden--visually\" id=\"sk-estimator-id-16\" type=\"checkbox\" ><label for=\"sk-estimator-id-16\" class=\"sk-toggleable__label sk-toggleable__label-arrow\">OneHotEncoder</label><div class=\"sk-toggleable__content\"><pre>OneHotEncoder()</pre></div></div></div></div></div></div></div></div></div></div><div class=\"sk-item\"><div class=\"sk-estimator sk-toggleable\"><input class=\"sk-toggleable__control sk-hidden--visually\" id=\"sk-estimator-id-17\" type=\"checkbox\" ><label for=\"sk-estimator-id-17\" class=\"sk-toggleable__label sk-toggleable__label-arrow\">SMOTEENN</label><div class=\"sk-toggleable__content\"><pre>SMOTEENN()</pre></div></div></div><div class=\"sk-item\"><div class=\"sk-estimator sk-toggleable\"><input class=\"sk-toggleable__control sk-hidden--visually\" id=\"sk-estimator-id-18\" type=\"checkbox\" ><label for=\"sk-estimator-id-18\" class=\"sk-toggleable__label sk-toggleable__label-arrow\">MultinomialNB</label><div class=\"sk-toggleable__content\"><pre>MultinomialNB()</pre></div></div></div></div></div></div></div>"
      ],
      "text/plain": [
       "Pipeline(steps=[('preprocessing',\n",
       "                 ColumnTransformer(transformers=[('numeric',\n",
       "                                                  Pipeline(steps=[('powertransformer',\n",
       "                                                                   PowerTransformer()),\n",
       "                                                                  ('minmaxscaler',\n",
       "                                                                   MinMaxScaler())]),\n",
       "                                                  <sklearn.compose._column_transformer.make_column_selector object at 0x000001FD8DD2EF40>),\n",
       "                                                 ('categorical',\n",
       "                                                  Pipeline(steps=[('onehotencoder',\n",
       "                                                                   OneHotEncoder())]),\n",
       "                                                  <sklearn.compose._column_transformer.make_column_selector object at 0x000001FD8FAA1310>)])),\n",
       "                ('smote_enn', SMOTEENN()), ('model', MultinomialNB())])"
      ]
     },
     "execution_count": 16,
     "metadata": {},
     "output_type": "execute_result"
    }
   ],
   "source": [
    "nbc_pipe.fit(X_train, y_train)"
   ]
  },
  {
   "cell_type": "code",
   "execution_count": 17,
   "metadata": {},
   "outputs": [
    {
     "name": "stdout",
     "output_type": "stream",
     "text": [
      "F1 Score: [0.0381741  0.00795372 0.70679376]\n",
      "[[ 1111     2   145]\n",
      " [ 6701    44  4218]\n",
      " [49137    55 64549]]\n"
     ]
    }
   ],
   "source": [
    "clf_pred = nbc_pipe.predict(X_test)\n",
    "f1 = f1_score(y_test, clf_pred, average=None)\n",
    "print('F1 Score:', f1)\n",
    "print(confusion_matrix(y_test, clf_pred))"
   ]
  },
  {
   "cell_type": "code",
   "execution_count": 37,
   "metadata": {},
   "outputs": [],
   "source": [
    "# attempt with a Random Forest classifier\n",
    "rfc_pipe = imbPipeline([\n",
    "    # Scaling, Normalizng, Encoding\n",
    "    ('preprocessing', ColumnTransformer([\n",
    "        ('numeric', make_pipeline(\n",
    "            PowerTransformer(),\n",
    "            StandardScaler()),\n",
    "            make_column_selector(dtype_include=np.number)\n",
    "        ),\n",
    "         ('categorical', make_pipeline(\n",
    "             OneHotEncoder()),\n",
    "             make_column_selector(dtype_include='object')\n",
    "         )])\n",
    "    ),\n",
    "    # Sampling to address class imbalance\n",
    "    ('smote_enn', SMOTEENN()),\n",
    "\n",
    "    # classifier\n",
    "    ('model', RandomForestClassifier())\n",
    "])"
   ]
  },
  {
   "cell_type": "code",
   "execution_count": 39,
   "metadata": {},
   "outputs": [
    {
     "name": "stdout",
     "output_type": "stream",
     "text": [
      "F1 Score: [0.18821351 0.40855973 0.90889492]\n",
      "[[  305   803   150]\n",
      " [  603  6835  3525]\n",
      " [ 1075 14858 97808]]\n"
     ]
    }
   ],
   "source": [
    "rfc_pipe.fit(X_train, y_train)\n",
    "clf_pred = rfc_pipe.predict(X_test)\n",
    "f1 = f1_score(y_test, clf_pred, average=None)\n",
    "print('F1 Score:', f1)\n",
    "print(confusion_matrix(y_test, clf_pred))"
   ]
  },
  {
   "cell_type": "code",
   "execution_count": 40,
   "metadata": {},
   "outputs": [
    {
     "name": "stdout",
     "output_type": "stream",
     "text": [
      "F1 Score: [0.19504547 0.40582212 0.90818494]\n",
      "[[  311   787   160]\n",
      " [  601  6817  3545]\n",
      " [ 1019 15029 97693]]\n"
     ]
    }
   ],
   "source": [
    "rfc_params = {\n",
    "    'model__max_features': ['sqrt', 'log2', None]\n",
    "}\n",
    "\n",
    "rfc_grid = GridSearchCV(estimator=rfc_pipe, param_grid=rfc_params)\n",
    "rfc_grid.fit(X_train, y_train)\n",
    "clf_pred = rfc_grid.predict(X_test)\n",
    "f1 = f1_score(y_test, clf_pred, average=None)\n",
    "print('F1 Score:', f1)\n",
    "print(confusion_matrix(y_test, clf_pred))"
   ]
  },
  {
   "cell_type": "code",
   "execution_count": 41,
   "metadata": {},
   "outputs": [
    {
     "data": {
      "text/plain": [
       "{'model__max_features': 'log2'}"
      ]
     },
     "execution_count": 41,
     "metadata": {},
     "output_type": "execute_result"
    }
   ],
   "source": [
    "rfc_grid.best_params_"
   ]
  },
  {
   "cell_type": "code",
   "execution_count": 42,
   "metadata": {},
   "outputs": [],
   "source": [
    "filename = 'models/rfcgrid.sav'\n",
    "pickle.dump(rfc_grid, open(filename, 'wb'))\n"
   ]
  },
  {
   "cell_type": "code",
   "execution_count": 5,
   "metadata": {},
   "outputs": [
    {
     "name": "stderr",
     "output_type": "stream",
     "text": [
      "C:\\Users\\HP USER\\AppData\\Local\\Temp\\ipykernel_17244\\2519040305.py:5: SettingWithCopyWarning: \n",
      "A value is trying to be set on a copy of a slice from a DataFrame.\n",
      "Try using .loc[row_indexer,col_indexer] = value instead\n",
      "\n",
      "See the caveats in the documentation: https://pandas.pydata.org/pandas-docs/stable/user_guide/indexing.html#returning-a-view-versus-a-copy\n",
      "  X['Size_Bin'] = le.fit_transform(X['Size_Bin'])\n"
     ]
    }
   ],
   "source": [
    "# XGBoost Classifier\n",
    "\n",
    "#XGBoost requires encoded y values.\n",
    "le = LabelEncoder()\n",
    "X['Size_Bin'] = le.fit_transform(X['Size_Bin'])\n",
    "X_train, X_test, y_train, y_test = train_test_split(X.drop(columns=['Size_Ha', 'Size_Bin']), X['Size_Bin'], test_size=.3, random_state=58, stratify=X['Size_Bin'])\n",
    "\n"
   ]
  },
  {
   "cell_type": "code",
   "execution_count": 8,
   "metadata": {},
   "outputs": [
    {
     "name": "stdout",
     "output_type": "stream",
     "text": [
      "{'large': 0, 'medium': 1, 'small': 2}\n"
     ]
    }
   ],
   "source": [
    "le_name_mapping = dict(zip(le.classes_, le.transform(le.classes_)))\n",
    "print(le_name_mapping)"
   ]
  },
  {
   "cell_type": "code",
   "execution_count": 9,
   "metadata": {},
   "outputs": [
    {
     "name": "stdout",
     "output_type": "stream",
     "text": [
      "F1 Score: [0.16333938 0.36147093 0.9091246 ]\n",
      "[[  675   450   133]\n",
      " [ 2072  5023  3868]\n",
      " [ 4260 11356 98125]]\n"
     ]
    }
   ],
   "source": [
    "\n",
    "xgc_pipe = imbPipeline([\n",
    "    # Scaling, Normalizng, Encoding\n",
    "    ('preprocessing', ColumnTransformer([\n",
    "        ('numeric', make_pipeline(\n",
    "            PowerTransformer(),\n",
    "            StandardScaler()),\n",
    "            make_column_selector(dtype_include=np.number)\n",
    "        ),\n",
    "         ('categorical', make_pipeline(\n",
    "             OneHotEncoder()),\n",
    "             make_column_selector(dtype_include='object')\n",
    "         )])\n",
    "    ),\n",
    "    # Sampling to address class imbalance\n",
    "    ('smote_enn', SMOTEENN()),\n",
    "\n",
    "    # classifier\n",
    "    ('model', xgb.XGBClassifier())\n",
    "])\n",
    "\n",
    "xgc_pipe.fit(X_train, y_train)\n",
    "clf_pred = xgc_pipe.predict(X_test)\n",
    "f1 = f1_score(y_test, clf_pred, average=None)\n",
    "print('F1 Score:', f1)\n",
    "print(confusion_matrix(y_test, clf_pred))"
   ]
  },
  {
   "cell_type": "code",
   "execution_count": 14,
   "metadata": {},
   "outputs": [
    {
     "data": {
      "text/plain": [
       "<sklearn.metrics._plot.confusion_matrix.ConfusionMatrixDisplay at 0x1fe76172e20>"
      ]
     },
     "execution_count": 14,
     "metadata": {},
     "output_type": "execute_result"
    },
    {
     "data": {
      "image/png": "[encoded data removed]",
      "text/plain": [
       "<Figure size 640x480 with 2 Axes>"
      ]
     },
     "metadata": {},
     "output_type": "display_data"
    }
   ],
   "source": [
    "from sklearn.metrics import ConfusionMatrixDisplay\n",
    "cm = confusion_matrix(y_test, clf_pred)\n",
    "cm_plot = ConfusionMatrixDisplay(cm, display_labels=xgc_pipe.classes_)\n",
    "cm_plot.plot()"
   ]
  },
  {
   "attachments": {},
   "cell_type": "markdown",
   "metadata": {},
   "source": [
    "## Stage 2: Regressors\n",
    "### Small Fire Regressor"
   ]
  },
  {
   "cell_type": "code",
   "execution_count": 41,
   "metadata": {},
   "outputs": [],
   "source": [
    "# Create training and test data for small regressor\n",
    "small_filter = X['Size_Bin'] == 'small'\n",
    "X_train, X_test, y_train, y_test = train_test_split(X[small_filter].drop(columns=['Size_Ha', 'Size_Bin']), X[small_filter]['Size_Ha'], test_size=.3, random_state=58)\n",
    "\n",
    "# Preprocessing Pipeline\n",
    "\n",
    "# isolate categorical features\n",
    "cat_feats = X_train.dtypes[X_train.dtypes == 'object'].index.tolist()\n",
    "\n",
    "# isolate numeric features\n",
    "num_feats = X_train.dtypes[X_train.dtypes == np.number].index.tolist()\n",
    "\n",
    "numeric_transform = Pipeline([\n",
    "    ('transform', PowerTransformer()),\n",
    "    ('scaler', StandardScaler()),\n",
    "])\n",
    "categorical_transform = Pipeline([\n",
    "    ('encoder', OneHotEncoder())\n",
    "])\n",
    "\n",
    "preprocessing = ColumnTransformer([\n",
    "    ('numeric', numeric_transform, num_feats),\n",
    "    ('categorical', categorical_transform, cat_feats)\n",
    "])\n"
   ]
  },
  {
   "cell_type": "code",
   "execution_count": 7,
   "metadata": {},
   "outputs": [
    {
     "name": "stdout",
     "output_type": "stream",
     "text": [
      "RMSE of the model: 2.406\n",
      "R2 of the model: -0.338\n"
     ]
    }
   ],
   "source": [
    "# AdaBoost model\n",
    "adb_small_pipe = Pipeline([\n",
    "    ('preprocessing', preprocessing),\n",
    "    ('model', AdaBoostRegressor())\n",
    "])\n",
    "\n",
    "adb_small_pipe.fit(X_train, y_train)\n",
    "\n",
    "evaluate_model(adb_small_pipe, X_test, y_test)\n"
   ]
  },
  {
   "cell_type": "code",
   "execution_count": 9,
   "metadata": {},
   "outputs": [
    {
     "name": "stdout",
     "output_type": "stream",
     "text": [
      "RMSE of the model: 2.040\n",
      "R2 of the model: 0.037\n",
      "Best Parameters: {'model__learning_rate': 0.001, 'model__loss': 'linear', 'model__n_estimators': 50}\n"
     ]
    }
   ],
   "source": [
    "adb_small_params = {\n",
    "    'model__n_estimators': [50, 100],\n",
    "    'model__loss': ['linear', 'square'],\n",
    "    'model__learning_rate': [.001, .01]\n",
    "}\n",
    "\n",
    "adb_small_grid = GridSearchCV(estimator=adb_small_pipe, param_grid=adb_small_params)\n",
    "adb_small_grid.fit(X_train, y_train)\n",
    "evaluate_model(adb_small_grid, X_test, y_test)\n",
    "print('Best Parameters:', adb_small_grid.best_params_)"
   ]
  },
  {
   "cell_type": "code",
   "execution_count": 10,
   "metadata": {},
   "outputs": [],
   "source": [
    "filename = 'models/adb_small_grid.sav'\n",
    "pickle.dump(adb_small_grid, open(filename, 'wb'))"
   ]
  },
  {
   "cell_type": "code",
   "execution_count": 11,
   "metadata": {},
   "outputs": [
    {
     "name": "stdout",
     "output_type": "stream",
     "text": [
      "RMSE of the model: 2.040\n",
      "R2 of the model: 0.038\n"
     ]
    }
   ],
   "source": [
    "en_small_pipe =  Pipeline([\n",
    "    ('preprocessing', preprocessing),\n",
    "    ('model', ElasticNetCV())\n",
    "])\n",
    "\n",
    "en_small_pipe.fit(X_train, y_train)\n",
    "evaluate_model(en_small_pipe, X_test, y_test)"
   ]
  },
  {
   "cell_type": "code",
   "execution_count": 12,
   "metadata": {},
   "outputs": [
    {
     "name": "stdout",
     "output_type": "stream",
     "text": [
      "RMSE of the model: 2.039\n",
      "R2 of the model: 0.038\n"
     ]
    }
   ],
   "source": [
    "en_params = {\n",
    "    'model__l1_ratio': [.1, .3, .5, .8,  1]\n",
    "}\n",
    "en_small_grid = GridSearchCV(estimator=en_small_pipe, param_grid=en_params)\n",
    "\n",
    "en_small_grid.fit(X_train, y_train)\n",
    "evaluate_model(en_small_grid, X_test, y_test)"
   ]
  },
  {
   "cell_type": "code",
   "execution_count": 42,
   "metadata": {},
   "outputs": [
    {
     "name": "stdout",
     "output_type": "stream",
     "text": [
      "RMSE of the model: 1.977\n",
      "R2 of the model: 0.096\n"
     ]
    }
   ],
   "source": [
    "# XGBoost\n",
    "xgb_small_pipe = Pipeline([\n",
    "    ('preprocessing', preprocessing),\n",
    "    ('model', xgb.XGBRegressor())\n",
    "])\n",
    "\n",
    "xgb_small_pipe.fit(X_train, y_train)\n",
    "evaluate_model(xgb_small_pipe, X_test, y_test)"
   ]
  },
  {
   "cell_type": "code",
   "execution_count": 43,
   "metadata": {},
   "outputs": [
    {
     "data": {
      "text/plain": [
       "0.1837102380620621"
      ]
     },
     "execution_count": 43,
     "metadata": {},
     "output_type": "execute_result"
    }
   ],
   "source": [
    "xgb_small_pipe.score(X_train, y_train)"
   ]
  },
  {
   "cell_type": "code",
   "execution_count": 44,
   "metadata": {},
   "outputs": [
    {
     "name": "stdout",
     "output_type": "stream",
     "text": [
      "RMSE of the model: 1.974\n",
      "R2 of the model: 0.100\n",
      "{'model__eta': 0.3, 'model__max_depth': 6, 'model__min_child_weight': 50}\n"
     ]
    }
   ],
   "source": [
    "xgb_params = {\n",
    "    'model__eta': [.01, .1, .3],\n",
    "    'model__max_depth': [2, 4, 6],\n",
    "    'model__min_child_weight': [1, 10, 50]\n",
    "}\n",
    "xgb_small_grid = GridSearchCV(estimator=xgb_small_pipe, param_grid=xgb_params)\n",
    "xgb_small_grid.fit(X_train, y_train)\n",
    "evaluate_model(xgb_small_grid,X_test, y_test)\n",
    "print(xgb_small_grid.best_params_)"
   ]
  },
  {
   "cell_type": "code",
   "execution_count": 45,
   "metadata": {},
   "outputs": [
    {
     "name": "stdout",
     "output_type": "stream",
     "text": [
      "RMSE of the model: 1.970\n",
      "R2 of the model: 0.102\n",
      "{'model__eta': 0.3, 'model__max_depth': 10, 'model__min_child_weight': 500}\n"
     ]
    }
   ],
   "source": [
    "xgb_params = {\n",
    "    'model__eta': [.3, .6, .8],\n",
    "    'model__max_depth': [6, 10, 15],\n",
    "    'model__min_child_weight': [100, 50, 500]\n",
    "}\n",
    "xgb_small_grid2 = GridSearchCV(estimator=xgb_small_pipe, param_grid=xgb_params)\n",
    "xgb_small_grid2.fit(X_train, y_train)\n",
    "evaluate_model(xgb_small_grid2,X_test, y_test)\n",
    "print(xgb_small_grid2.best_params_)"
   ]
  },
  {
   "cell_type": "code",
   "execution_count": 46,
   "metadata": {},
   "outputs": [],
   "source": [
    "filename = 'models/xgb_small.sav'\n",
    "pickle.dump(xgb_small_grid, open(filename, 'wb'))"
   ]
  },
  {
   "attachments": {},
   "cell_type": "markdown",
   "metadata": {},
   "source": [
    "### Medium Fire Regressor"
   ]
  },
  {
   "cell_type": "code",
   "execution_count": 31,
   "metadata": {},
   "outputs": [],
   "source": [
    "# Create training and test data for medium regressor\n",
    "medium_filter = X['Size_Bin'] == 'medium'\n",
    "X_train, X_test, y_train, y_test = train_test_split(X[medium_filter].drop(columns=['Size_Ha', 'Size_Bin']), X[medium_filter]['Size_Ha'], test_size=.25, random_state=58)\n",
    "\n",
    "# Preprocessing Pipeline\n",
    "\n",
    "# isolate categorical features\n",
    "cat_feats = X_train.dtypes[X_train.dtypes == 'object'].index.tolist()\n",
    "\n",
    "# isolate numeric features\n",
    "num_feats = X_train.dtypes[X_train.dtypes == np.number].index.tolist()\n",
    "\n",
    "numeric_transform = Pipeline([\n",
    "    ('transform', PowerTransformer()),\n",
    "    ('scaler', StandardScaler()),\n",
    "])\n",
    "categorical_transform = Pipeline([\n",
    "    ('encoder', OneHotEncoder())\n",
    "])\n",
    "\n",
    "preprocessing = ColumnTransformer([\n",
    "    ('numeric', numeric_transform, num_feats),\n",
    "    ('categorical', categorical_transform, cat_feats)\n",
    "])\n"
   ]
  },
  {
   "cell_type": "code",
   "execution_count": 14,
   "metadata": {},
   "outputs": [
    {
     "name": "stdout",
     "output_type": "stream",
     "text": [
      "RMSE of the model: 904.671\n",
      "R2 of the model: 0.052\n"
     ]
    }
   ],
   "source": [
    "# AdaBoost model\n",
    "adb_med_pipe = Pipeline([\n",
    "    ('preprocessing', preprocessing),\n",
    "    ('model', AdaBoostRegressor(learning_rate=0.01, loss='linear', n_estimators=50)) # these parameters came from gridsearch below\n",
    "])\n",
    "\n",
    "adb_med_pipe.fit(X_train, y_train)\n",
    "\n",
    "evaluate_model(adb_med_pipe, X_test, y_test)"
   ]
  },
  {
   "cell_type": "code",
   "execution_count": 15,
   "metadata": {},
   "outputs": [
    {
     "name": "stdout",
     "output_type": "stream",
     "text": [
      "RMSE of the model: 904.831\n",
      "R2 of the model: 0.052\n",
      "Best Parameters: {'model__learning_rate': 0.01, 'model__loss': 'linear', 'model__n_estimators': 50}\n"
     ]
    }
   ],
   "source": [
    "adb_med_params = {\n",
    "    'model__n_estimators': [50, 100, 500],\n",
    "    'model__loss': ['linear', 'square'],\n",
    "    'model__learning_rate': [.01, .1, 1]\n",
    "}\n",
    "\n",
    "med_grid = GridSearchCV(estimator=adb_med_pipe, param_grid=adb_med_params)\n",
    "med_grid.fit(X_train, y_train)\n",
    "evaluate_model(med_grid, X_test, y_test)\n",
    "print('Best Parameters:', med_grid.best_params_)"
   ]
  },
  {
   "cell_type": "code",
   "execution_count": 32,
   "metadata": {},
   "outputs": [
    {
     "name": "stdout",
     "output_type": "stream",
     "text": [
      "RMSE of the model: 902.786\n",
      "R2 of the model: 0.056\n"
     ]
    }
   ],
   "source": [
    "# XGBoost\n",
    "xgb_med_pipe = Pipeline([\n",
    "    ('preprocessing', preprocessing),\n",
    "    ('model', xgb.XGBRegressor())\n",
    "])\n",
    "\n",
    "xgb_med_pipe.fit(X_train, y_train)\n",
    "evaluate_model(xgb_med_pipe, X_test, y_test)"
   ]
  },
  {
   "cell_type": "code",
   "execution_count": 33,
   "metadata": {},
   "outputs": [
    {
     "name": "stdout",
     "output_type": "stream",
     "text": [
      "RMSE of the model: 889.295\n",
      "R2 of the model: 0.084\n",
      "{'model__eta': 0.1, 'model__max_depth': 6, 'model__min_child_weight': 50}\n"
     ]
    }
   ],
   "source": [
    "xgb_params = {\n",
    "    'model__eta': [.01, .1, .3],\n",
    "    'model__max_depth': [2, 4, 6],\n",
    "    'model__min_child_weight': [1, 10, 50]\n",
    "}\n",
    "xgb_med_grid = GridSearchCV(estimator=xgb_med_pipe, param_grid=xgb_params)\n",
    "xgb_med_grid.fit(X_train, y_train)\n",
    "evaluate_model(xgb_med_grid,X_test, y_test)\n",
    "print(xgb_med_grid.best_params_)"
   ]
  },
  {
   "cell_type": "code",
   "execution_count": 38,
   "metadata": {},
   "outputs": [
    {
     "name": "stdout",
     "output_type": "stream",
     "text": [
      "RMSE of the model: 888.042\n",
      "R2 of the model: 0.087\n",
      "{'model__eta': 0.1, 'model__max_depth': 8, 'model__min_child_weight': 200}\n"
     ]
    }
   ],
   "source": [
    "xgb_params = {\n",
    "    'model__eta': [.01, .1, .3],\n",
    "    'model__max_depth': [4, 6, 8, 10],\n",
    "    'model__min_child_weight': [50, 100, 200]\n",
    "}\n",
    "xgb_med_grid = GridSearchCV(estimator=xgb_med_pipe, param_grid=xgb_params)\n",
    "xgb_med_grid.fit(X_train, y_train)\n",
    "evaluate_model(xgb_med_grid,X_test, y_test)\n",
    "print(xgb_med_grid.best_params_)"
   ]
  },
  {
   "cell_type": "code",
   "execution_count": 39,
   "metadata": {},
   "outputs": [],
   "source": [
    "filename = 'models/xgb_med.sav'\n",
    "pickle.dump(xgb_med_grid, open(filename, 'wb'))"
   ]
  },
  {
   "attachments": {},
   "cell_type": "markdown",
   "metadata": {},
   "source": [
    "### Large Fire Regressor"
   ]
  },
  {
   "cell_type": "code",
   "execution_count": 16,
   "metadata": {},
   "outputs": [
    {
     "name": "stdout",
     "output_type": "stream",
     "text": [
      "(3354, 13)\n"
     ]
    }
   ],
   "source": [
    "# Create training and test data for large regressor\n",
    "large_filter = X['Size_Bin'] == 'large'\n",
    "X_train, X_test, y_train, y_test = train_test_split(X[large_filter].drop(columns=['Size_Ha', 'Size_Bin']), X[large_filter]['Size_Ha'], test_size=.2, random_state=58)\n",
    "print(X_train.shape)\n",
    "\n",
    "# isolate categorical features\n",
    "cat_feats = X_train.dtypes[X_train.dtypes == 'object'].index.tolist()\n",
    "\n",
    "# isolate numeric features\n",
    "num_feats = X_train.dtypes[X_train.dtypes == np.number].index.tolist()\n",
    "\n",
    "# Preprocessing Pipeline\n",
    "\n",
    "numeric_transform = Pipeline([\n",
    "    ('transform', PowerTransformer()),\n",
    "    ('scaler', StandardScaler()),\n",
    "])\n",
    "categorical_transform = Pipeline([\n",
    "    ('encoder', OneHotEncoder())\n",
    "])\n",
    "\n",
    "preprocessing = ColumnTransformer([\n",
    "    ('numeric', numeric_transform, num_feats),\n",
    "    ('categorical', categorical_transform, cat_feats)\n",
    "])\n"
   ]
  },
  {
   "cell_type": "code",
   "execution_count": null,
   "metadata": {},
   "outputs": [],
   "source": [
    "\n",
    "# AdaBoost model\n",
    "adb_large_pipe = Pipeline([\n",
    "    ('preprocessing', preprocessing),\n",
    "    ('model', AdaBoostRegressor())\n",
    "])\n",
    "\n",
    "adb_large_pipe.fit(X_train, y_train)\n",
    "\n",
    "evaluate_model(adb_large_pipe, X_test, y_test)"
   ]
  },
  {
   "cell_type": "code",
   "execution_count": 14,
   "metadata": {},
   "outputs": [
    {
     "name": "stdout",
     "output_type": "stream",
     "text": [
      "RMSE of the model: 52590.670\n",
      "R2 of the model: -0.001\n"
     ]
    }
   ],
   "source": [
    "adb_large_params = {\n",
    "    'model__n_estimators': [50, 100, 500],\n",
    "    'model__loss': ['linear', 'square'],\n",
    "    'model__learning_rate': [.01, .1, 1]\n",
    "}\n",
    "\n",
    "large_grid = GridSearchCV(estimator=adb_large_pipe, param_grid=adb_large_params)\n",
    "large_grid.fit(X_train, y_train)\n",
    "evaluate_model(large_grid, X_test, y_test)"
   ]
  },
  {
   "cell_type": "code",
   "execution_count": 17,
   "metadata": {},
   "outputs": [
    {
     "data": {
      "text/plain": [
       "{'model__learning_rate': 0.01,\n",
       " 'model__loss': 'square',\n",
       " 'model__n_estimators': 50}"
      ]
     },
     "execution_count": 17,
     "metadata": {},
     "output_type": "execute_result"
    }
   ],
   "source": [
    "large_grid.best_params_"
   ]
  },
  {
   "cell_type": "code",
   "execution_count": 40,
   "metadata": {},
   "outputs": [
    {
     "data": {
      "text/html": [
       "<style>#sk-container-id-3 {color: black;background-color: white;}#sk-container-id-3 pre{padding: 0;}#sk-container-id-3 div.sk-toggleable {background-color: white;}#sk-container-id-3 label.sk-toggleable__label {cursor: pointer;display: block;width: 100%;margin-bottom: 0;padding: 0.3em;box-sizing: border-box;text-align: center;}#sk-container-id-3 label.sk-toggleable__label-arrow:before {content: \"▸\";float: left;margin-right: 0.25em;color: #696969;}#sk-container-id-3 label.sk-toggleable__label-arrow:hover:before {color: black;}#sk-container-id-3 div.sk-estimator:hover label.sk-toggleable__label-arrow:before {color: black;}#sk-container-id-3 div.sk-toggleable__content {max-height: 0;max-width: 0;overflow: hidden;text-align: left;background-color: #f0f8ff;}#sk-container-id-3 div.sk-toggleable__content pre {margin: 0.2em;color: black;border-radius: 0.25em;background-color: #f0f8ff;}#sk-container-id-3 input.sk-toggleable__control:checked~div.sk-toggleable__content {max-height: 200px;max-width: 100%;overflow: auto;}#sk-container-id-3 input.sk-toggleable__control:checked~label.sk-toggleable__label-arrow:before {content: \"▾\";}#sk-container-id-3 div.sk-estimator input.sk-toggleable__control:checked~label.sk-toggleable__label {background-color: #d4ebff;}#sk-container-id-3 div.sk-label input.sk-toggleable__control:checked~label.sk-toggleable__label {background-color: #d4ebff;}#sk-container-id-3 input.sk-hidden--visually {border: 0;clip: rect(1px 1px 1px 1px);clip: rect(1px, 1px, 1px, 1px);height: 1px;margin: -1px;overflow: hidden;padding: 0;position: absolute;width: 1px;}#sk-container-id-3 div.sk-estimator {font-family: monospace;background-color: #f0f8ff;border: 1px dotted black;border-radius: 0.25em;box-sizing: border-box;margin-bottom: 0.5em;}#sk-container-id-3 div.sk-estimator:hover {background-color: #d4ebff;}#sk-container-id-3 div.sk-parallel-item::after {content: \"\";width: 100%;border-bottom: 1px solid gray;flex-grow: 1;}#sk-container-id-3 div.sk-label:hover label.sk-toggleable__label {background-color: #d4ebff;}#sk-container-id-3 div.sk-serial::before {content: \"\";position: absolute;border-left: 1px solid gray;box-sizing: border-box;top: 0;bottom: 0;left: 50%;z-index: 0;}#sk-container-id-3 div.sk-serial {display: flex;flex-direction: column;align-items: center;background-color: white;padding-right: 0.2em;padding-left: 0.2em;position: relative;}#sk-container-id-3 div.sk-item {position: relative;z-index: 1;}#sk-container-id-3 div.sk-parallel {display: flex;align-items: stretch;justify-content: center;background-color: white;position: relative;}#sk-container-id-3 div.sk-item::before, #sk-container-id-3 div.sk-parallel-item::before {content: \"\";position: absolute;border-left: 1px solid gray;box-sizing: border-box;top: 0;bottom: 0;left: 50%;z-index: -1;}#sk-container-id-3 div.sk-parallel-item {display: flex;flex-direction: column;z-index: 1;position: relative;background-color: white;}#sk-container-id-3 div.sk-parallel-item:first-child::after {align-self: flex-end;width: 50%;}#sk-container-id-3 div.sk-parallel-item:last-child::after {align-self: flex-start;width: 50%;}#sk-container-id-3 div.sk-parallel-item:only-child::after {width: 0;}#sk-container-id-3 div.sk-dashed-wrapped {border: 1px dashed gray;margin: 0 0.4em 0.5em 0.4em;box-sizing: border-box;padding-bottom: 0.4em;background-color: white;}#sk-container-id-3 div.sk-label label {font-family: monospace;font-weight: bold;display: inline-block;line-height: 1.2em;}#sk-container-id-3 div.sk-label-container {text-align: center;}#sk-container-id-3 div.sk-container {/* jupyter's `normalize.less` sets `[hidden] { display: none; }` but bootstrap.min.css set `[hidden] { display: none !important; }` so we also need the `!important` here to be able to override the default hidden behavior on the sphinx rendered scikit-learn.org. See: https://github.com/scikit-learn/scikit-learn/issues/21755 */display: inline-block !important;position: relative;}#sk-container-id-3 div.sk-text-repr-fallback {display: none;}</style><div id=\"sk-container-id-3\" class=\"sk-top-container\"><div class=\"sk-text-repr-fallback\"><pre>Pipeline(steps=[(&#x27;preprocessing&#x27;,\n",
       "                 ColumnTransformer(transformers=[(&#x27;numeric&#x27;,\n",
       "                                                  Pipeline(steps=[(&#x27;transform&#x27;,\n",
       "                                                                   PowerTransformer()),\n",
       "                                                                  (&#x27;scaler&#x27;,\n",
       "                                                                   StandardScaler())]),\n",
       "                                                  [&#x27;LATITUDE&#x27;, &#x27;LONGITUDE&#x27;,\n",
       "                                                   &#x27;elevation&#x27;,\n",
       "                                                   &#x27;2_Week_Rainfall&#x27;,\n",
       "                                                   &#x27;Avg_High&#x27;,\n",
       "                                                   &#x27;Start_Date_High&#x27;,\n",
       "                                                   &#x27;Avg_Temp&#x27;,\n",
       "                                                   &#x27;Start_Date_Wind_Speed&#x27;]),\n",
       "                                                 (&#x27;categorical&#x27;,\n",
       "                                                  Pipeline(steps=[(&#x27;encoder&#x27;,\n",
       "                                                                   OneHotEncoder())]),\n",
       "                                                  [&#x27;CAUSE&#x27;])])),\n",
       "                (&#x27;model&#x27;, ElasticNetCV())])</pre><b>In a Jupyter environment, please rerun this cell to show the HTML representation or trust the notebook. <br />On GitHub, the HTML representation is unable to render, please try loading this page with nbviewer.org.</b></div><div class=\"sk-container\" hidden><div class=\"sk-item sk-dashed-wrapped\"><div class=\"sk-label-container\"><div class=\"sk-label sk-toggleable\"><input class=\"sk-toggleable__control sk-hidden--visually\" id=\"sk-estimator-id-19\" type=\"checkbox\" ><label for=\"sk-estimator-id-19\" class=\"sk-toggleable__label sk-toggleable__label-arrow\">Pipeline</label><div class=\"sk-toggleable__content\"><pre>Pipeline(steps=[(&#x27;preprocessing&#x27;,\n",
       "                 ColumnTransformer(transformers=[(&#x27;numeric&#x27;,\n",
       "                                                  Pipeline(steps=[(&#x27;transform&#x27;,\n",
       "                                                                   PowerTransformer()),\n",
       "                                                                  (&#x27;scaler&#x27;,\n",
       "                                                                   StandardScaler())]),\n",
       "                                                  [&#x27;LATITUDE&#x27;, &#x27;LONGITUDE&#x27;,\n",
       "                                                   &#x27;elevation&#x27;,\n",
       "                                                   &#x27;2_Week_Rainfall&#x27;,\n",
       "                                                   &#x27;Avg_High&#x27;,\n",
       "                                                   &#x27;Start_Date_High&#x27;,\n",
       "                                                   &#x27;Avg_Temp&#x27;,\n",
       "                                                   &#x27;Start_Date_Wind_Speed&#x27;]),\n",
       "                                                 (&#x27;categorical&#x27;,\n",
       "                                                  Pipeline(steps=[(&#x27;encoder&#x27;,\n",
       "                                                                   OneHotEncoder())]),\n",
       "                                                  [&#x27;CAUSE&#x27;])])),\n",
       "                (&#x27;model&#x27;, ElasticNetCV())])</pre></div></div></div><div class=\"sk-serial\"><div class=\"sk-item sk-dashed-wrapped\"><div class=\"sk-label-container\"><div class=\"sk-label sk-toggleable\"><input class=\"sk-toggleable__control sk-hidden--visually\" id=\"sk-estimator-id-20\" type=\"checkbox\" ><label for=\"sk-estimator-id-20\" class=\"sk-toggleable__label sk-toggleable__label-arrow\">preprocessing: ColumnTransformer</label><div class=\"sk-toggleable__content\"><pre>ColumnTransformer(transformers=[(&#x27;numeric&#x27;,\n",
       "                                 Pipeline(steps=[(&#x27;transform&#x27;,\n",
       "                                                  PowerTransformer()),\n",
       "                                                 (&#x27;scaler&#x27;, StandardScaler())]),\n",
       "                                 [&#x27;LATITUDE&#x27;, &#x27;LONGITUDE&#x27;, &#x27;elevation&#x27;,\n",
       "                                  &#x27;2_Week_Rainfall&#x27;, &#x27;Avg_High&#x27;,\n",
       "                                  &#x27;Start_Date_High&#x27;, &#x27;Avg_Temp&#x27;,\n",
       "                                  &#x27;Start_Date_Wind_Speed&#x27;]),\n",
       "                                (&#x27;categorical&#x27;,\n",
       "                                 Pipeline(steps=[(&#x27;encoder&#x27;, OneHotEncoder())]),\n",
       "                                 [&#x27;CAUSE&#x27;])])</pre></div></div></div><div class=\"sk-parallel\"><div class=\"sk-parallel-item\"><div class=\"sk-item\"><div class=\"sk-label-container\"><div class=\"sk-label sk-toggleable\"><input class=\"sk-toggleable__control sk-hidden--visually\" id=\"sk-estimator-id-21\" type=\"checkbox\" ><label for=\"sk-estimator-id-21\" class=\"sk-toggleable__label sk-toggleable__label-arrow\">numeric</label><div class=\"sk-toggleable__content\"><pre>[&#x27;LATITUDE&#x27;, &#x27;LONGITUDE&#x27;, &#x27;elevation&#x27;, &#x27;2_Week_Rainfall&#x27;, &#x27;Avg_High&#x27;, &#x27;Start_Date_High&#x27;, &#x27;Avg_Temp&#x27;, &#x27;Start_Date_Wind_Speed&#x27;]</pre></div></div></div><div class=\"sk-serial\"><div class=\"sk-item\"><div class=\"sk-serial\"><div class=\"sk-item\"><div class=\"sk-estimator sk-toggleable\"><input class=\"sk-toggleable__control sk-hidden--visually\" id=\"sk-estimator-id-22\" type=\"checkbox\" ><label for=\"sk-estimator-id-22\" class=\"sk-toggleable__label sk-toggleable__label-arrow\">PowerTransformer</label><div class=\"sk-toggleable__content\"><pre>PowerTransformer()</pre></div></div></div><div class=\"sk-item\"><div class=\"sk-estimator sk-toggleable\"><input class=\"sk-toggleable__control sk-hidden--visually\" id=\"sk-estimator-id-23\" type=\"checkbox\" ><label for=\"sk-estimator-id-23\" class=\"sk-toggleable__label sk-toggleable__label-arrow\">StandardScaler</label><div class=\"sk-toggleable__content\"><pre>StandardScaler()</pre></div></div></div></div></div></div></div></div><div class=\"sk-parallel-item\"><div class=\"sk-item\"><div class=\"sk-label-container\"><div class=\"sk-label sk-toggleable\"><input class=\"sk-toggleable__control sk-hidden--visually\" id=\"sk-estimator-id-24\" type=\"checkbox\" ><label for=\"sk-estimator-id-24\" class=\"sk-toggleable__label sk-toggleable__label-arrow\">categorical</label><div class=\"sk-toggleable__content\"><pre>[&#x27;CAUSE&#x27;]</pre></div></div></div><div class=\"sk-serial\"><div class=\"sk-item\"><div class=\"sk-serial\"><div class=\"sk-item\"><div class=\"sk-estimator sk-toggleable\"><input class=\"sk-toggleable__control sk-hidden--visually\" id=\"sk-estimator-id-25\" type=\"checkbox\" ><label for=\"sk-estimator-id-25\" class=\"sk-toggleable__label sk-toggleable__label-arrow\">OneHotEncoder</label><div class=\"sk-toggleable__content\"><pre>OneHotEncoder()</pre></div></div></div></div></div></div></div></div></div></div><div class=\"sk-item\"><div class=\"sk-estimator sk-toggleable\"><input class=\"sk-toggleable__control sk-hidden--visually\" id=\"sk-estimator-id-26\" type=\"checkbox\" ><label for=\"sk-estimator-id-26\" class=\"sk-toggleable__label sk-toggleable__label-arrow\">ElasticNetCV</label><div class=\"sk-toggleable__content\"><pre>ElasticNetCV()</pre></div></div></div></div></div></div></div>"
      ],
      "text/plain": [
       "Pipeline(steps=[('preprocessing',\n",
       "                 ColumnTransformer(transformers=[('numeric',\n",
       "                                                  Pipeline(steps=[('transform',\n",
       "                                                                   PowerTransformer()),\n",
       "                                                                  ('scaler',\n",
       "                                                                   StandardScaler())]),\n",
       "                                                  ['LATITUDE', 'LONGITUDE',\n",
       "                                                   'elevation',\n",
       "                                                   '2_Week_Rainfall',\n",
       "                                                   'Avg_High',\n",
       "                                                   'Start_Date_High',\n",
       "                                                   'Avg_Temp',\n",
       "                                                   'Start_Date_Wind_Speed']),\n",
       "                                                 ('categorical',\n",
       "                                                  Pipeline(steps=[('encoder',\n",
       "                                                                   OneHotEncoder())]),\n",
       "                                                  ['CAUSE'])])),\n",
       "                ('model', ElasticNetCV())])"
      ]
     },
     "execution_count": 40,
     "metadata": {},
     "output_type": "execute_result"
    }
   ],
   "source": [
    "en_large_pipe = Pipeline([\n",
    "    ('preprocessing', preprocessing),\n",
    "    ('model', ElasticNetCV())\n",
    "])\n",
    "\n",
    "en_large_pipe.fit(X_train, y_train)"
   ]
  },
  {
   "cell_type": "code",
   "execution_count": 41,
   "metadata": {},
   "outputs": [
    {
     "name": "stdout",
     "output_type": "stream",
     "text": [
      "RMSE of the model: 55968.119\n",
      "R2 of the model: 0.001\n"
     ]
    }
   ],
   "source": [
    "evaluate_model(en_large_pipe, X_test, y_test)"
   ]
  },
  {
   "cell_type": "code",
   "execution_count": 45,
   "metadata": {},
   "outputs": [
    {
     "name": "stdout",
     "output_type": "stream",
     "text": [
      "RMSE of the model: 55959.623\n",
      "R2 of the model: 0.002\n"
     ]
    }
   ],
   "source": [
    "en_params = {\n",
    "    'model__l1_ratio': [.1, .3, .5, .8,  1]\n",
    "}\n",
    "en_large_grid = GridSearchCV(estimator=en_large_pipe, param_grid=en_params)\n",
    "\n",
    "en_large_grid.fit(X_train, y_train)\n",
    "evaluate_model(en_large_grid, X_test, y_test)"
   ]
  },
  {
   "cell_type": "code",
   "execution_count": 17,
   "metadata": {},
   "outputs": [
    {
     "name": "stderr",
     "output_type": "stream",
     "text": [
      "c:\\Users\\HP USER\\anaconda3\\envs\\lhl_data\\lib\\site-packages\\sklearn\\linear_model\\_huber.py:342: ConvergenceWarning: lbfgs failed to converge (status=1):\n",
      "STOP: TOTAL NO. of ITERATIONS REACHED LIMIT.\n",
      "\n",
      "Increase the number of iterations (max_iter) or scale the data as shown in:\n",
      "    https://scikit-learn.org/stable/modules/preprocessing.html\n",
      "  self.n_iter_ = _check_optimize_result(\"lbfgs\", opt_res, self.max_iter)\n"
     ]
    },
    {
     "data": {
      "text/html": [
       "<style>#sk-container-id-1 {color: black;background-color: white;}#sk-container-id-1 pre{padding: 0;}#sk-container-id-1 div.sk-toggleable {background-color: white;}#sk-container-id-1 label.sk-toggleable__label {cursor: pointer;display: block;width: 100%;margin-bottom: 0;padding: 0.3em;box-sizing: border-box;text-align: center;}#sk-container-id-1 label.sk-toggleable__label-arrow:before {content: \"▸\";float: left;margin-right: 0.25em;color: #696969;}#sk-container-id-1 label.sk-toggleable__label-arrow:hover:before {color: black;}#sk-container-id-1 div.sk-estimator:hover label.sk-toggleable__label-arrow:before {color: black;}#sk-container-id-1 div.sk-toggleable__content {max-height: 0;max-width: 0;overflow: hidden;text-align: left;background-color: #f0f8ff;}#sk-container-id-1 div.sk-toggleable__content pre {margin: 0.2em;color: black;border-radius: 0.25em;background-color: #f0f8ff;}#sk-container-id-1 input.sk-toggleable__control:checked~div.sk-toggleable__content {max-height: 200px;max-width: 100%;overflow: auto;}#sk-container-id-1 input.sk-toggleable__control:checked~label.sk-toggleable__label-arrow:before {content: \"▾\";}#sk-container-id-1 div.sk-estimator input.sk-toggleable__control:checked~label.sk-toggleable__label {background-color: #d4ebff;}#sk-container-id-1 div.sk-label input.sk-toggleable__control:checked~label.sk-toggleable__label {background-color: #d4ebff;}#sk-container-id-1 input.sk-hidden--visually {border: 0;clip: rect(1px 1px 1px 1px);clip: rect(1px, 1px, 1px, 1px);height: 1px;margin: -1px;overflow: hidden;padding: 0;position: absolute;width: 1px;}#sk-container-id-1 div.sk-estimator {font-family: monospace;background-color: #f0f8ff;border: 1px dotted black;border-radius: 0.25em;box-sizing: border-box;margin-bottom: 0.5em;}#sk-container-id-1 div.sk-estimator:hover {background-color: #d4ebff;}#sk-container-id-1 div.sk-parallel-item::after {content: \"\";width: 100%;border-bottom: 1px solid gray;flex-grow: 1;}#sk-container-id-1 div.sk-label:hover label.sk-toggleable__label {background-color: #d4ebff;}#sk-container-id-1 div.sk-serial::before {content: \"\";position: absolute;border-left: 1px solid gray;box-sizing: border-box;top: 0;bottom: 0;left: 50%;z-index: 0;}#sk-container-id-1 div.sk-serial {display: flex;flex-direction: column;align-items: center;background-color: white;padding-right: 0.2em;padding-left: 0.2em;position: relative;}#sk-container-id-1 div.sk-item {position: relative;z-index: 1;}#sk-container-id-1 div.sk-parallel {display: flex;align-items: stretch;justify-content: center;background-color: white;position: relative;}#sk-container-id-1 div.sk-item::before, #sk-container-id-1 div.sk-parallel-item::before {content: \"\";position: absolute;border-left: 1px solid gray;box-sizing: border-box;top: 0;bottom: 0;left: 50%;z-index: -1;}#sk-container-id-1 div.sk-parallel-item {display: flex;flex-direction: column;z-index: 1;position: relative;background-color: white;}#sk-container-id-1 div.sk-parallel-item:first-child::after {align-self: flex-end;width: 50%;}#sk-container-id-1 div.sk-parallel-item:last-child::after {align-self: flex-start;width: 50%;}#sk-container-id-1 div.sk-parallel-item:only-child::after {width: 0;}#sk-container-id-1 div.sk-dashed-wrapped {border: 1px dashed gray;margin: 0 0.4em 0.5em 0.4em;box-sizing: border-box;padding-bottom: 0.4em;background-color: white;}#sk-container-id-1 div.sk-label label {font-family: monospace;font-weight: bold;display: inline-block;line-height: 1.2em;}#sk-container-id-1 div.sk-label-container {text-align: center;}#sk-container-id-1 div.sk-container {/* jupyter's `normalize.less` sets `[hidden] { display: none; }` but bootstrap.min.css set `[hidden] { display: none !important; }` so we also need the `!important` here to be able to override the default hidden behavior on the sphinx rendered scikit-learn.org. See: https://github.com/scikit-learn/scikit-learn/issues/21755 */display: inline-block !important;position: relative;}#sk-container-id-1 div.sk-text-repr-fallback {display: none;}</style><div id=\"sk-container-id-1\" class=\"sk-top-container\"><div class=\"sk-text-repr-fallback\"><pre>Pipeline(steps=[(&#x27;preprocessing&#x27;,\n",
       "                 ColumnTransformer(transformers=[(&#x27;numeric&#x27;,\n",
       "                                                  Pipeline(steps=[(&#x27;transform&#x27;,\n",
       "                                                                   PowerTransformer()),\n",
       "                                                                  (&#x27;scaler&#x27;,\n",
       "                                                                   StandardScaler())]),\n",
       "                                                  [&#x27;Latitude&#x27;, &#x27;Longitude&#x27;,\n",
       "                                                   &#x27;Elevation&#x27;,\n",
       "                                                   &#x27;2_Week_Rainfall&#x27;,\n",
       "                                                   &#x27;Avg_High&#x27;,\n",
       "                                                   &#x27;Start_Date_High&#x27;,\n",
       "                                                   &#x27;Avg_Temp&#x27;,\n",
       "                                                   &#x27;Start_Date_Wind_Speed&#x27;]),\n",
       "                                                 (&#x27;categorical&#x27;,\n",
       "                                                  Pipeline(steps=[(&#x27;encoder&#x27;,\n",
       "                                                                   OneHotEncoder())]),\n",
       "                                                  [&#x27;Cause&#x27;])])),\n",
       "                (&#x27;model&#x27;, HuberRegressor())])</pre><b>In a Jupyter environment, please rerun this cell to show the HTML representation or trust the notebook. <br />On GitHub, the HTML representation is unable to render, please try loading this page with nbviewer.org.</b></div><div class=\"sk-container\" hidden><div class=\"sk-item sk-dashed-wrapped\"><div class=\"sk-label-container\"><div class=\"sk-label sk-toggleable\"><input class=\"sk-toggleable__control sk-hidden--visually\" id=\"sk-estimator-id-1\" type=\"checkbox\" ><label for=\"sk-estimator-id-1\" class=\"sk-toggleable__label sk-toggleable__label-arrow\">Pipeline</label><div class=\"sk-toggleable__content\"><pre>Pipeline(steps=[(&#x27;preprocessing&#x27;,\n",
       "                 ColumnTransformer(transformers=[(&#x27;numeric&#x27;,\n",
       "                                                  Pipeline(steps=[(&#x27;transform&#x27;,\n",
       "                                                                   PowerTransformer()),\n",
       "                                                                  (&#x27;scaler&#x27;,\n",
       "                                                                   StandardScaler())]),\n",
       "                                                  [&#x27;Latitude&#x27;, &#x27;Longitude&#x27;,\n",
       "                                                   &#x27;Elevation&#x27;,\n",
       "                                                   &#x27;2_Week_Rainfall&#x27;,\n",
       "                                                   &#x27;Avg_High&#x27;,\n",
       "                                                   &#x27;Start_Date_High&#x27;,\n",
       "                                                   &#x27;Avg_Temp&#x27;,\n",
       "                                                   &#x27;Start_Date_Wind_Speed&#x27;]),\n",
       "                                                 (&#x27;categorical&#x27;,\n",
       "                                                  Pipeline(steps=[(&#x27;encoder&#x27;,\n",
       "                                                                   OneHotEncoder())]),\n",
       "                                                  [&#x27;Cause&#x27;])])),\n",
       "                (&#x27;model&#x27;, HuberRegressor())])</pre></div></div></div><div class=\"sk-serial\"><div class=\"sk-item sk-dashed-wrapped\"><div class=\"sk-label-container\"><div class=\"sk-label sk-toggleable\"><input class=\"sk-toggleable__control sk-hidden--visually\" id=\"sk-estimator-id-2\" type=\"checkbox\" ><label for=\"sk-estimator-id-2\" class=\"sk-toggleable__label sk-toggleable__label-arrow\">preprocessing: ColumnTransformer</label><div class=\"sk-toggleable__content\"><pre>ColumnTransformer(transformers=[(&#x27;numeric&#x27;,\n",
       "                                 Pipeline(steps=[(&#x27;transform&#x27;,\n",
       "                                                  PowerTransformer()),\n",
       "                                                 (&#x27;scaler&#x27;, StandardScaler())]),\n",
       "                                 [&#x27;Latitude&#x27;, &#x27;Longitude&#x27;, &#x27;Elevation&#x27;,\n",
       "                                  &#x27;2_Week_Rainfall&#x27;, &#x27;Avg_High&#x27;,\n",
       "                                  &#x27;Start_Date_High&#x27;, &#x27;Avg_Temp&#x27;,\n",
       "                                  &#x27;Start_Date_Wind_Speed&#x27;]),\n",
       "                                (&#x27;categorical&#x27;,\n",
       "                                 Pipeline(steps=[(&#x27;encoder&#x27;, OneHotEncoder())]),\n",
       "                                 [&#x27;Cause&#x27;])])</pre></div></div></div><div class=\"sk-parallel\"><div class=\"sk-parallel-item\"><div class=\"sk-item\"><div class=\"sk-label-container\"><div class=\"sk-label sk-toggleable\"><input class=\"sk-toggleable__control sk-hidden--visually\" id=\"sk-estimator-id-3\" type=\"checkbox\" ><label for=\"sk-estimator-id-3\" class=\"sk-toggleable__label sk-toggleable__label-arrow\">numeric</label><div class=\"sk-toggleable__content\"><pre>[&#x27;Latitude&#x27;, &#x27;Longitude&#x27;, &#x27;Elevation&#x27;, &#x27;2_Week_Rainfall&#x27;, &#x27;Avg_High&#x27;, &#x27;Start_Date_High&#x27;, &#x27;Avg_Temp&#x27;, &#x27;Start_Date_Wind_Speed&#x27;]</pre></div></div></div><div class=\"sk-serial\"><div class=\"sk-item\"><div class=\"sk-serial\"><div class=\"sk-item\"><div class=\"sk-estimator sk-toggleable\"><input class=\"sk-toggleable__control sk-hidden--visually\" id=\"sk-estimator-id-4\" type=\"checkbox\" ><label for=\"sk-estimator-id-4\" class=\"sk-toggleable__label sk-toggleable__label-arrow\">PowerTransformer</label><div class=\"sk-toggleable__content\"><pre>PowerTransformer()</pre></div></div></div><div class=\"sk-item\"><div class=\"sk-estimator sk-toggleable\"><input class=\"sk-toggleable__control sk-hidden--visually\" id=\"sk-estimator-id-5\" type=\"checkbox\" ><label for=\"sk-estimator-id-5\" class=\"sk-toggleable__label sk-toggleable__label-arrow\">StandardScaler</label><div class=\"sk-toggleable__content\"><pre>StandardScaler()</pre></div></div></div></div></div></div></div></div><div class=\"sk-parallel-item\"><div class=\"sk-item\"><div class=\"sk-label-container\"><div class=\"sk-label sk-toggleable\"><input class=\"sk-toggleable__control sk-hidden--visually\" id=\"sk-estimator-id-6\" type=\"checkbox\" ><label for=\"sk-estimator-id-6\" class=\"sk-toggleable__label sk-toggleable__label-arrow\">categorical</label><div class=\"sk-toggleable__content\"><pre>[&#x27;Cause&#x27;]</pre></div></div></div><div class=\"sk-serial\"><div class=\"sk-item\"><div class=\"sk-serial\"><div class=\"sk-item\"><div class=\"sk-estimator sk-toggleable\"><input class=\"sk-toggleable__control sk-hidden--visually\" id=\"sk-estimator-id-7\" type=\"checkbox\" ><label for=\"sk-estimator-id-7\" class=\"sk-toggleable__label sk-toggleable__label-arrow\">OneHotEncoder</label><div class=\"sk-toggleable__content\"><pre>OneHotEncoder()</pre></div></div></div></div></div></div></div></div></div></div><div class=\"sk-item\"><div class=\"sk-estimator sk-toggleable\"><input class=\"sk-toggleable__control sk-hidden--visually\" id=\"sk-estimator-id-8\" type=\"checkbox\" ><label for=\"sk-estimator-id-8\" class=\"sk-toggleable__label sk-toggleable__label-arrow\">HuberRegressor</label><div class=\"sk-toggleable__content\"><pre>HuberRegressor()</pre></div></div></div></div></div></div></div>"
      ],
      "text/plain": [
       "Pipeline(steps=[('preprocessing',\n",
       "                 ColumnTransformer(transformers=[('numeric',\n",
       "                                                  Pipeline(steps=[('transform',\n",
       "                                                                   PowerTransformer()),\n",
       "                                                                  ('scaler',\n",
       "                                                                   StandardScaler())]),\n",
       "                                                  ['Latitude', 'Longitude',\n",
       "                                                   'Elevation',\n",
       "                                                   '2_Week_Rainfall',\n",
       "                                                   'Avg_High',\n",
       "                                                   'Start_Date_High',\n",
       "                                                   'Avg_Temp',\n",
       "                                                   'Start_Date_Wind_Speed']),\n",
       "                                                 ('categorical',\n",
       "                                                  Pipeline(steps=[('encoder',\n",
       "                                                                   OneHotEncoder())]),\n",
       "                                                  ['Cause'])])),\n",
       "                ('model', HuberRegressor())])"
      ]
     },
     "execution_count": 17,
     "metadata": {},
     "output_type": "execute_result"
    }
   ],
   "source": [
    "hr_large_pipe = Pipeline([\n",
    "    ('preprocessing', preprocessing),\n",
    "    ('model', HuberRegressor())\n",
    "])\n",
    "\n",
    "hr_large_pipe.fit(X_train, y_train)"
   ]
  },
  {
   "cell_type": "code",
   "execution_count": 18,
   "metadata": {},
   "outputs": [
    {
     "name": "stdout",
     "output_type": "stream",
     "text": [
      "RMSE of the model: 50889.811\n",
      "R2 of the model: -0.058\n"
     ]
    }
   ],
   "source": [
    "evaluate_model(hr_large_pipe, X_test, y_test)"
   ]
  },
  {
   "cell_type": "code",
   "execution_count": 19,
   "metadata": {},
   "outputs": [
    {
     "name": "stderr",
     "output_type": "stream",
     "text": [
      "c:\\Users\\HP USER\\anaconda3\\envs\\lhl_data\\lib\\site-packages\\sklearn\\linear_model\\_huber.py:342: ConvergenceWarning: lbfgs failed to converge (status=1):\n",
      "STOP: TOTAL NO. of ITERATIONS REACHED LIMIT.\n",
      "\n",
      "Increase the number of iterations (max_iter) or scale the data as shown in:\n",
      "    https://scikit-learn.org/stable/modules/preprocessing.html\n",
      "  self.n_iter_ = _check_optimize_result(\"lbfgs\", opt_res, self.max_iter)\n"
     ]
    },
    {
     "name": "stdout",
     "output_type": "stream",
     "text": [
      "RMSE of the model: 49351.625\n",
      "R2 of the model: 0.005\n"
     ]
    }
   ],
   "source": [
    "hr_params = {\n",
    "    'model__alpha': [.0001, .01, .1],\n",
    "    'model__epsilon': [1, 10, 100]\n",
    "}\n",
    "hr_large_grid = GridSearchCV(estimator=hr_large_pipe, param_grid=hr_params)\n",
    "\n",
    "hr_large_grid.fit(X_train, y_train)\n",
    "evaluate_model(hr_large_grid, X_test, y_test)"
   ]
  },
  {
   "cell_type": "code",
   "execution_count": 21,
   "metadata": {},
   "outputs": [
    {
     "data": {
      "text/plain": [
       "{'model__alpha': 0.0001, 'model__epsilon': 10}"
      ]
     },
     "execution_count": 21,
     "metadata": {},
     "output_type": "execute_result"
    }
   ],
   "source": [
    "hr_large_grid.best_params_"
   ]
  },
  {
   "cell_type": "code",
   "execution_count": 22,
   "metadata": {},
   "outputs": [],
   "source": [
    "filename = 'models/hr_large_grid.sav'\n",
    "pickle.dump(hr_large_grid, open(filename, 'wb'))"
   ]
  },
  {
   "cell_type": "code",
   "execution_count": 30,
   "metadata": {},
   "outputs": [
    {
     "name": "stdout",
     "output_type": "stream",
     "text": [
      "RMSE of the model: 50429.038\n",
      "R2 of the model: -0.039\n"
     ]
    }
   ],
   "source": [
    "rfr_large_pipe = Pipeline([\n",
    "    ('preprocessing', preprocessing),\n",
    "    ('model', RandomForestRegressor())\n",
    "])\n",
    "\n",
    "rfr_large_pipe.fit(X_train, y_train)\n",
    "evaluate_model(rfr_large_pipe, X_test, y_test)"
   ]
  },
  {
   "cell_type": "code",
   "execution_count": 31,
   "metadata": {},
   "outputs": [
    {
     "name": "stdout",
     "output_type": "stream",
     "text": [
      "RMSE of the model: 50119.233\n",
      "R2 of the model: -0.026\n"
     ]
    }
   ],
   "source": [
    "rfr_params = {\n",
    "    'model__n_estimators': [50, 100, 500],\n",
    "    'model__criterion': ['squared_error', 'absolute_error']\n",
    "}\n",
    "rfr_large_grid = GridSearchCV(estimator=rfr_large_pipe, param_grid=rfr_params)\n",
    "\n",
    "rfr_large_grid.fit(X_train, y_train)\n",
    "evaluate_model(rfr_large_grid, X_test, y_test)"
   ]
  },
  {
   "cell_type": "code",
   "execution_count": 24,
   "metadata": {},
   "outputs": [
    {
     "name": "stdout",
     "output_type": "stream",
     "text": [
      "RMSE of the model: 51971.722\n",
      "R2 of the model: -0.103\n"
     ]
    }
   ],
   "source": [
    "xgb_large_pipe = Pipeline([\n",
    "    ('preprocessing', preprocessing),\n",
    "    ('model', xgb.XGBRegressor())\n",
    "])\n",
    "\n",
    "xgb_large_pipe.fit(X_train, y_train)\n",
    "evaluate_model(xgb_large_pipe, X_test, y_test)"
   ]
  },
  {
   "cell_type": "code",
   "execution_count": 28,
   "metadata": {},
   "outputs": [
    {
     "name": "stdout",
     "output_type": "stream",
     "text": [
      "RMSE of the model: 49176.651\n",
      "R2 of the model: 0.012\n",
      "{'model__eta': 0.1, 'model__max_depth': 2, 'model__min_child_weight': 10}\n"
     ]
    }
   ],
   "source": [
    "xgb_params = {\n",
    "    'model__eta': [.01, .1, .3],\n",
    "    'model__max_depth': [2, 4, 6],\n",
    "    'model__min_child_weight': [1, 10, 50]\n",
    "}\n",
    "xgb_large_grid = GridSearchCV(estimator=xgb_large_pipe, param_grid=xgb_params)\n",
    "xgb_large_grid.fit(X_train, y_train)\n",
    "evaluate_model(xgb_large_grid,X_test, y_test)\n",
    "print(xgb_large_grid.best_params_)"
   ]
  },
  {
   "cell_type": "code",
   "execution_count": 30,
   "metadata": {},
   "outputs": [],
   "source": [
    "filename = 'models/xgb_large.sav'\n",
    "pickle.dump(xgb_large_grid, open(filename, 'wb'))"
   ]
  },
  {
   "cell_type": "code",
   "execution_count": null,
   "metadata": {},
   "outputs": [],
   "source": []
  }
 ],
 "metadata": {
  "kernelspec": {
   "display_name": "lhl_data",
   "language": "python",
   "name": "python3"
  },
  "language_info": {
   "codemirror_mode": {
    "name": "ipython",
    "version": 3
   },
   "file_extension": ".py",
   "mimetype": "text/x-python",
   "name": "python",
   "nbconvert_exporter": "python",
   "pygments_lexer": "ipython3",
   "version": "3.8.16"
  },
  "orig_nbformat": 4
 },
 "nbformat": 4,
 "nbformat_minor": 2
}
